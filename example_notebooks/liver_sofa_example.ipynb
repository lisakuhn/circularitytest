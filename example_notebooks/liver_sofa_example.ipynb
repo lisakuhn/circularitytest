{
 "cells": [
  {
   "cell_type": "markdown",
   "metadata": {
    "collapsed": true
   },
   "source": [
    "## Sepsis Prediction with SOFA score - Liver Example - Circularity in Machine Learning Annotation\n"
   ]
  },
  {
   "cell_type": "markdown",
   "metadata": {},
   "source": [
    "In this notebook the circularity test from chapter 2.4.3 of \"Validity, Reliability, and Significance: Empirical Methods for NLP and Data Science\n",
    "\" (Riezler&Hagmann, 2021), for the liver sofa example is executed and visualized step-by-step, just as circularitytest would handle it internally."
   ]
  },
  {
   "cell_type": "markdown",
   "metadata": {},
   "source": [
    "\n",
    "**Definition Circularity Test (2.6)**: \\\n",
    "Given a dataset of feature-label relations $D = \\{(x^{n}, y^{n})\\}^{N}_{n=1}$ where $x^{n} = (x_1, x_2, . . . , x_p)$ is a $p$-dimensional feature vector, let $C \\subseteq P(\\{1, . . . , p\\})$ indicate the set of candidate circular features in dataset $D$, and let $M := \\{\\mu_c : c \\in C\\}$ be the set of models obtained by fitting a GAM based on feature set $c$ to the data $D$. A set of circular features $c∗$ is detected by applying the following two-step test:\n",
    "1. $c∗ = argmax_{c\\subseteq C} D^2(\\mu_c)$ where $D^2\n",
    "(\\mu_{c∗} )$ is close to 1, and in case\n",
    "the maximizer is not unique, the maximizer is chosen whose\n",
    "associated GAM $\\mu_{c∗}$ has the smallest degrees of freedom.\n",
    "2. The feature shapes of any other features added to the GAM\n",
    "$\\mu_{c∗}$ are nullified in the model $\\mu\\{1,...,p\\}$ that is based on the full\n",
    "feature set."
   ]
  },
  {
   "cell_type": "code",
   "execution_count": 1,
   "metadata": {},
   "outputs": [],
   "source": [
    "# Imports\n",
    "from circularitytest.gam import construct_powerset, construct_gam_term, build_gam, check_nullification, score\n",
    "from circularitytest.utils import load_r_data, preprocess_replace_data\n",
    "from circularitytest.plot import plot_gam_terms\n",
    "from tqdm import tqdm\n",
    "import pandas as pd\n",
    "pd.set_option('display.max_colwidth', 100)\n"
   ]
  },
  {
   "cell_type": "markdown",
   "metadata": {},
   "source": [
    "Features, Target for sepsis prediction with liver sofa score"
   ]
  },
  {
   "cell_type": "code",
   "execution_count": 2,
   "metadata": {},
   "outputs": [],
   "source": [
    "# Feature definitions\n",
    "features = sorted([\"bili\", \"asat\", \"quinr\", \"thrombo\", \"alat\"])\n",
    "target = \"target\"\n"
   ]
  },
  {
   "cell_type": "markdown",
   "metadata": {},
   "source": [
    "Construct all possible feature sets $c$ from the features "
   ]
  },
  {
   "cell_type": "code",
   "execution_count": 3,
   "metadata": {},
   "outputs": [
    {
     "data": {
      "text/plain": [
       "[['alat'],\n",
       " ['asat'],\n",
       " ['bili'],\n",
       " ['quinr'],\n",
       " ['thrombo'],\n",
       " ['alat', 'asat'],\n",
       " ['alat', 'bili'],\n",
       " ['alat', 'quinr'],\n",
       " ['alat', 'thrombo'],\n",
       " ['asat', 'bili'],\n",
       " ['asat', 'quinr'],\n",
       " ['asat', 'thrombo'],\n",
       " ['bili', 'quinr'],\n",
       " ['bili', 'thrombo'],\n",
       " ['quinr', 'thrombo'],\n",
       " ['alat', 'asat', 'bili'],\n",
       " ['alat', 'asat', 'quinr'],\n",
       " ['alat', 'asat', 'thrombo'],\n",
       " ['alat', 'bili', 'quinr'],\n",
       " ['alat', 'bili', 'thrombo'],\n",
       " ['alat', 'quinr', 'thrombo'],\n",
       " ['asat', 'bili', 'quinr'],\n",
       " ['asat', 'bili', 'thrombo'],\n",
       " ['asat', 'quinr', 'thrombo'],\n",
       " ['bili', 'quinr', 'thrombo'],\n",
       " ['alat', 'asat', 'bili', 'quinr'],\n",
       " ['alat', 'asat', 'bili', 'thrombo'],\n",
       " ['alat', 'asat', 'quinr', 'thrombo'],\n",
       " ['alat', 'bili', 'quinr', 'thrombo'],\n",
       " ['asat', 'bili', 'quinr', 'thrombo'],\n",
       " ['alat', 'asat', 'bili', 'quinr', 'thrombo']]"
      ]
     },
     "execution_count": 3,
     "metadata": {},
     "output_type": "execute_result"
    }
   ],
   "source": [
    "# Obtain feature combinations\n",
    "feature_combinations = construct_powerset(features)\n",
    "feature_combinations"
   ]
  },
  {
   "cell_type": "code",
   "execution_count": 4,
   "metadata": {
    "pycharm": {
     "name": "#%%\n"
    }
   },
   "outputs": [],
   "source": [
    "# Data loading: this is usually handled inside circularitytest\n",
    "data = load_r_data(\"../data/liver_sofa_example/liver_dataset-training_nostd.rds\")"
   ]
  },
  {
   "cell_type": "markdown",
   "metadata": {},
   "source": [
    "Fit GAMs on all feature sets \n",
    "and calculate the $D^2$ and effective degrees of freedom for each GAM"
   ]
  },
  {
   "cell_type": "code",
   "execution_count": 5,
   "metadata": {
    "pycharm": {
     "name": "#%%\n"
    }
   },
   "outputs": [
    {
     "name": "stderr",
     "output_type": "stream",
     "text": [
      "Fitting GAMs on Powerset: 100%|██████████| 31/31 [03:23<00:00,  6.55s/it]\n"
     ]
    }
   ],
   "source": [
    "#Fit GAMs for powerset and calculate Deviance explained as well as degrees of freedom\n",
    "gam_results = []\n",
    "\n",
    "\n",
    "for feature_combination in tqdm(feature_combinations, desc=\"Fitting GAMs on Powerset\"):\n",
    "    \n",
    " \n",
    "    term_list = construct_gam_term({}, feature_combination)\n",
    "    gam = build_gam(term_list)\n",
    "\n",
    "    X, y = data[feature_combination].to_numpy(), data[target].to_numpy()\n",
    "\n",
    "    gam.fit(X,y)\n",
    "\n",
    "    result = (feature_combination, gam, round(score(gam, X, y) * 100), gam.statistics_[\"edof\"])\n",
    "\n",
    "    gam_results.append(result)\n"
   ]
  },
  {
   "cell_type": "markdown",
   "metadata": {},
   "source": [
    "Sort GAMs according to $D^2$ and effective degrees of freedom"
   ]
  },
  {
   "cell_type": "code",
   "execution_count": 6,
   "metadata": {
    "pycharm": {
     "name": "#%%\n"
    }
   },
   "outputs": [
    {
     "data": {
      "text/html": [
       "<div>\n",
       "<style scoped>\n",
       "    .dataframe tbody tr th:only-of-type {\n",
       "        vertical-align: middle;\n",
       "    }\n",
       "\n",
       "    .dataframe tbody tr th {\n",
       "        vertical-align: top;\n",
       "    }\n",
       "\n",
       "    .dataframe thead th {\n",
       "        text-align: right;\n",
       "    }\n",
       "</style>\n",
       "<table border=\"1\" class=\"dataframe\">\n",
       "  <thead>\n",
       "    <tr style=\"text-align: right;\">\n",
       "      <th></th>\n",
       "      <th>Features</th>\n",
       "      <th>Deviance Explained</th>\n",
       "      <th>Effective Degrees of Freedom</th>\n",
       "    </tr>\n",
       "  </thead>\n",
       "  <tbody>\n",
       "    <tr>\n",
       "      <th>0</th>\n",
       "      <td>[bili]</td>\n",
       "      <td>91</td>\n",
       "      <td>7.833519</td>\n",
       "    </tr>\n",
       "    <tr>\n",
       "      <th>1</th>\n",
       "      <td>[bili, quinr]</td>\n",
       "      <td>91</td>\n",
       "      <td>14.051502</td>\n",
       "    </tr>\n",
       "    <tr>\n",
       "      <th>2</th>\n",
       "      <td>[asat, bili]</td>\n",
       "      <td>91</td>\n",
       "      <td>15.077423</td>\n",
       "    </tr>\n",
       "    <tr>\n",
       "      <th>3</th>\n",
       "      <td>[alat, bili]</td>\n",
       "      <td>91</td>\n",
       "      <td>15.086816</td>\n",
       "    </tr>\n",
       "    <tr>\n",
       "      <th>4</th>\n",
       "      <td>[bili, thrombo]</td>\n",
       "      <td>91</td>\n",
       "      <td>15.513497</td>\n",
       "    </tr>\n",
       "    <tr>\n",
       "      <th>5</th>\n",
       "      <td>[alat, bili, quinr]</td>\n",
       "      <td>91</td>\n",
       "      <td>21.188707</td>\n",
       "    </tr>\n",
       "    <tr>\n",
       "      <th>6</th>\n",
       "      <td>[asat, bili, quinr]</td>\n",
       "      <td>91</td>\n",
       "      <td>21.283297</td>\n",
       "    </tr>\n",
       "    <tr>\n",
       "      <th>7</th>\n",
       "      <td>[bili, quinr, thrombo]</td>\n",
       "      <td>91</td>\n",
       "      <td>21.730284</td>\n",
       "    </tr>\n",
       "    <tr>\n",
       "      <th>8</th>\n",
       "      <td>[alat, asat, bili]</td>\n",
       "      <td>91</td>\n",
       "      <td>22.291402</td>\n",
       "    </tr>\n",
       "    <tr>\n",
       "      <th>9</th>\n",
       "      <td>[asat, bili, thrombo]</td>\n",
       "      <td>91</td>\n",
       "      <td>22.756924</td>\n",
       "    </tr>\n",
       "    <tr>\n",
       "      <th>10</th>\n",
       "      <td>[alat, bili, thrombo]</td>\n",
       "      <td>91</td>\n",
       "      <td>22.765729</td>\n",
       "    </tr>\n",
       "    <tr>\n",
       "      <th>11</th>\n",
       "      <td>[alat, asat, bili, quinr]</td>\n",
       "      <td>91</td>\n",
       "      <td>28.393356</td>\n",
       "    </tr>\n",
       "    <tr>\n",
       "      <th>12</th>\n",
       "      <td>[alat, bili, quinr, thrombo]</td>\n",
       "      <td>91</td>\n",
       "      <td>28.866393</td>\n",
       "    </tr>\n",
       "    <tr>\n",
       "      <th>13</th>\n",
       "      <td>[asat, bili, quinr, thrombo]</td>\n",
       "      <td>91</td>\n",
       "      <td>28.961619</td>\n",
       "    </tr>\n",
       "    <tr>\n",
       "      <th>14</th>\n",
       "      <td>[alat, asat, bili, thrombo]</td>\n",
       "      <td>91</td>\n",
       "      <td>29.969657</td>\n",
       "    </tr>\n",
       "    <tr>\n",
       "      <th>15</th>\n",
       "      <td>[alat, asat, bili, quinr, thrombo]</td>\n",
       "      <td>91</td>\n",
       "      <td>36.070399</td>\n",
       "    </tr>\n",
       "    <tr>\n",
       "      <th>16</th>\n",
       "      <td>[alat, asat, quinr, thrombo]</td>\n",
       "      <td>25</td>\n",
       "      <td>29.246798</td>\n",
       "    </tr>\n",
       "    <tr>\n",
       "      <th>17</th>\n",
       "      <td>[asat, quinr, thrombo]</td>\n",
       "      <td>24</td>\n",
       "      <td>22.135737</td>\n",
       "    </tr>\n",
       "    <tr>\n",
       "      <th>18</th>\n",
       "      <td>[alat, quinr, thrombo]</td>\n",
       "      <td>23</td>\n",
       "      <td>22.040042</td>\n",
       "    </tr>\n",
       "    <tr>\n",
       "      <th>19</th>\n",
       "      <td>[alat, asat, thrombo]</td>\n",
       "      <td>21</td>\n",
       "      <td>23.143161</td>\n",
       "    </tr>\n",
       "    <tr>\n",
       "      <th>20</th>\n",
       "      <td>[alat, asat, quinr]</td>\n",
       "      <td>20</td>\n",
       "      <td>21.567842</td>\n",
       "    </tr>\n",
       "    <tr>\n",
       "      <th>21</th>\n",
       "      <td>[asat, quinr]</td>\n",
       "      <td>19</td>\n",
       "      <td>14.455547</td>\n",
       "    </tr>\n",
       "    <tr>\n",
       "      <th>22</th>\n",
       "      <td>[asat, thrombo]</td>\n",
       "      <td>19</td>\n",
       "      <td>15.928089</td>\n",
       "    </tr>\n",
       "    <tr>\n",
       "      <th>23</th>\n",
       "      <td>[alat, thrombo]</td>\n",
       "      <td>18</td>\n",
       "      <td>15.936380</td>\n",
       "    </tr>\n",
       "    <tr>\n",
       "      <th>24</th>\n",
       "      <td>[alat, quinr]</td>\n",
       "      <td>17</td>\n",
       "      <td>14.360250</td>\n",
       "    </tr>\n",
       "    <tr>\n",
       "      <th>25</th>\n",
       "      <td>[quinr, thrombo]</td>\n",
       "      <td>17</td>\n",
       "      <td>14.901394</td>\n",
       "    </tr>\n",
       "    <tr>\n",
       "      <th>26</th>\n",
       "      <td>[alat, asat]</td>\n",
       "      <td>14</td>\n",
       "      <td>15.463152</td>\n",
       "    </tr>\n",
       "    <tr>\n",
       "      <th>27</th>\n",
       "      <td>[asat]</td>\n",
       "      <td>13</td>\n",
       "      <td>8.246773</td>\n",
       "    </tr>\n",
       "    <tr>\n",
       "      <th>28</th>\n",
       "      <td>[thrombo]</td>\n",
       "      <td>11</td>\n",
       "      <td>8.681862</td>\n",
       "    </tr>\n",
       "    <tr>\n",
       "      <th>29</th>\n",
       "      <td>[quinr]</td>\n",
       "      <td>10</td>\n",
       "      <td>7.220711</td>\n",
       "    </tr>\n",
       "    <tr>\n",
       "      <th>30</th>\n",
       "      <td>[alat]</td>\n",
       "      <td>9</td>\n",
       "      <td>8.255442</td>\n",
       "    </tr>\n",
       "  </tbody>\n",
       "</table>\n",
       "</div>"
      ],
      "text/plain": [
       "                              Features  Deviance Explained  \\\n",
       "0                               [bili]                  91   \n",
       "1                        [bili, quinr]                  91   \n",
       "2                         [asat, bili]                  91   \n",
       "3                         [alat, bili]                  91   \n",
       "4                      [bili, thrombo]                  91   \n",
       "5                  [alat, bili, quinr]                  91   \n",
       "6                  [asat, bili, quinr]                  91   \n",
       "7               [bili, quinr, thrombo]                  91   \n",
       "8                   [alat, asat, bili]                  91   \n",
       "9                [asat, bili, thrombo]                  91   \n",
       "10               [alat, bili, thrombo]                  91   \n",
       "11           [alat, asat, bili, quinr]                  91   \n",
       "12        [alat, bili, quinr, thrombo]                  91   \n",
       "13        [asat, bili, quinr, thrombo]                  91   \n",
       "14         [alat, asat, bili, thrombo]                  91   \n",
       "15  [alat, asat, bili, quinr, thrombo]                  91   \n",
       "16        [alat, asat, quinr, thrombo]                  25   \n",
       "17              [asat, quinr, thrombo]                  24   \n",
       "18              [alat, quinr, thrombo]                  23   \n",
       "19               [alat, asat, thrombo]                  21   \n",
       "20                 [alat, asat, quinr]                  20   \n",
       "21                       [asat, quinr]                  19   \n",
       "22                     [asat, thrombo]                  19   \n",
       "23                     [alat, thrombo]                  18   \n",
       "24                       [alat, quinr]                  17   \n",
       "25                    [quinr, thrombo]                  17   \n",
       "26                        [alat, asat]                  14   \n",
       "27                              [asat]                  13   \n",
       "28                           [thrombo]                  11   \n",
       "29                             [quinr]                  10   \n",
       "30                              [alat]                   9   \n",
       "\n",
       "    Effective Degrees of Freedom  \n",
       "0                       7.833519  \n",
       "1                      14.051502  \n",
       "2                      15.077423  \n",
       "3                      15.086816  \n",
       "4                      15.513497  \n",
       "5                      21.188707  \n",
       "6                      21.283297  \n",
       "7                      21.730284  \n",
       "8                      22.291402  \n",
       "9                      22.756924  \n",
       "10                     22.765729  \n",
       "11                     28.393356  \n",
       "12                     28.866393  \n",
       "13                     28.961619  \n",
       "14                     29.969657  \n",
       "15                     36.070399  \n",
       "16                     29.246798  \n",
       "17                     22.135737  \n",
       "18                     22.040042  \n",
       "19                     23.143161  \n",
       "20                     21.567842  \n",
       "21                     14.455547  \n",
       "22                     15.928089  \n",
       "23                     15.936380  \n",
       "24                     14.360250  \n",
       "25                     14.901394  \n",
       "26                     15.463152  \n",
       "27                      8.246773  \n",
       "28                      8.681862  \n",
       "29                      7.220711  \n",
       "30                      8.255442  "
      ]
     },
     "execution_count": 6,
     "metadata": {},
     "output_type": "execute_result"
    }
   ],
   "source": [
    "sorted_result_gams = sorted(gam_results, key=lambda x: (x[2], -x[3]), reverse=True)\n",
    "\n",
    "df = pd.DataFrame(sorted_result_gams, columns =['Features', 'GAM', 'Deviance Explained', \"Effective Degrees of Freedom\"]).drop('GAM', 1)\n",
    "df\n"
   ]
  },
  {
   "cell_type": "markdown",
   "metadata": {},
   "source": [
    "Check for step 1 of Circularity Test: \\\n",
    "    - Extract features $c*$ where GAM $\\mu_{c*}$ has highest $D^2$ and check that $D^2(\\mu_{c*})$ is close to 1 \\\n",
    "    - Check that it has the smallest degree of freedom among GAMs with same $D^2$ (not strictly necessary in this instance due to sorting function)"
   ]
  },
  {
   "cell_type": "code",
   "execution_count": 7,
   "metadata": {
    "pycharm": {
     "name": "#%%\n"
    }
   },
   "outputs": [],
   "source": [
    "#check that top gam is close to 1\n",
    "circularity_candidate = sorted_result_gams[0]\n",
    "\n",
    "assert circularity_candidate[2] > 90, \"No GAM has a good fit for the data\"\n",
    "assert all(i > circularity_candidate[3] for i in [elem[3] for elem in sorted_result_gams if elem[0] != circularity_candidate[0]\n",
    "                                                     and circularity_candidate[2] == elem[2]]),\\\n",
    "                \"Best GAM does not have the smallest degrees of freedom\""
   ]
  },
  {
   "cell_type": "markdown",
   "metadata": {},
   "source": [
    "Check for step 2 of Circularity Test: **Nullification** \\\n",
    "Take GAM fitted on full feature set and check that all features that are not in $c*$ are nullified: feature shapes are constant (zero) function. I used the standard deviation of a smooth term as a measure for nullification. \n",
    "\n",
    "\n",
    "-> feature shapes are visualized as further proof under following section Visualizations"
   ]
  },
  {
   "cell_type": "code",
   "execution_count": 8,
   "metadata": {},
   "outputs": [
    {
     "data": {
      "text/plain": [
       "['alat', 'asat', 'quinr', 'thrombo']"
      ]
     },
     "execution_count": 8,
     "metadata": {},
     "output_type": "execute_result"
    }
   ],
   "source": [
    "# If we have a circularity candidate: check for nullification in GAM with all features\n",
    "full_gam = [gam[1] for gam in sorted_result_gams if gam[0] == features][0]\n",
    "\n",
    "nullified_features = check_nullification(full_gam, features, threshold=0.19)\n",
    "nullified_features\n"
   ]
  },
  {
   "cell_type": "code",
   "execution_count": 9,
   "metadata": {
    "pycharm": {
     "name": "#%%\n"
    }
   },
   "outputs": [
    {
     "name": "stdout",
     "output_type": "stream",
     "text": [
      "Circular features found: bili\n"
     ]
    }
   ],
   "source": [
    "# Check that nullified features are not in circularity candidate feature set c*\n",
    "if nullified_features == sorted(list(set(features)-set(circularity_candidate[0]))):\n",
    "    circular_features = circularity_candidate[0]\n",
    "    print(f\"Circular features found: {', '.join(circular_features)}\")\n",
    "\n",
    "else:\n",
    "    print(\"No circular features were found.\")"
   ]
  },
  {
   "cell_type": "markdown",
   "metadata": {},
   "source": [
    "After applying the Circularity Test we can conclude that the feature bilirubin(bili) is a circular feature: \\\n",
    "    - The GAM trained on the bili feature only achieves optimal fit to data with the smallest degrees of freedom. \\\n",
    "    - All other features are nullified in the presence of the bili feature.  \\\n",
    "Visualizations are below for further clarification. "
   ]
  },
  {
   "cell_type": "markdown",
   "metadata": {},
   "source": [
    "### Visualizations"
   ]
  },
  {
   "cell_type": "code",
   "execution_count": 10,
   "metadata": {
    "pycharm": {
     "name": "#%%\n"
    }
   },
   "outputs": [],
   "source": [
    "#Plotting definitions for nice presentation: x and y limits, increased number of splines\n",
    "\n",
    "config = {\"ylim\": (-0.5, 4.3),\n",
    "         \"bili\": {\n",
    "             \"xlim\": (0,15),\n",
    "             \"n_splines\": 100\n",
    "         },\n",
    "         \"quinr\": {\n",
    "             \"xlim\": (0.8, 4)\n",
    "         }}\n"
   ]
  },
  {
   "cell_type": "markdown",
   "metadata": {},
   "source": [
    "Definition of the deterministic rule for target in this IR example\n",
    "\n",
    "| Condition | Liver SOFA Score |\n",
    "| --- | --- |\n",
    "| 0 < bilirubin $\\leq$ 1.2 | 0 |\n",
    "| 1.2 < bilirubin $\\leq$ 1.9 | 1 |\n",
    "| 1.9 < bilirubin $\\leq$ 5.9 | 2 |\n",
    "| 5.9 < bilirubin $\\leq$ 11.9 | 3 |\n",
    "| bilirubin > 11.9 | 4 |"
   ]
  },
  {
   "cell_type": "code",
   "execution_count": 11,
   "metadata": {},
   "outputs": [],
   "source": [
    "# Encode the rule in dictionary structure for plotting function so that we can\n",
    "# plot GAM against decision function\n",
    "decision_function = {0: {\"bili\": 0},\n",
    "                    1: {\"bili\": 1.2},\n",
    "                    2: {\"bili\": 1.9},\n",
    "                    3: {\"bili\": 5.9},\n",
    "                    4: {\"bili\": 11.9}}\n"
   ]
  },
  {
   "cell_type": "markdown",
   "metadata": {},
   "source": [
    "Plot GAM $\\mu_{c*}$ for identified circular feature set $c*$ reconstructing target labeling function:\n",
    "\n",
    "It is clear that the GAM can perfectly reconstruct the target function given the features that define the function and the fit is (too) perfect."
   ]
  },
  {
   "cell_type": "code",
   "execution_count": 12,
   "metadata": {
    "pycharm": {
     "name": "#%%\n"
    }
   },
   "outputs": [
    {
     "data": {
      "image/png": "[encoded data removed]",
      "text/plain": [
       "<Figure size 432x288 with 1 Axes>"
      ]
     },
     "metadata": {
      "needs_background": "light"
     },
     "output_type": "display_data"
    }
   ],
   "source": [
    "term_list = construct_gam_term({\"plot\": config}, circular_features, plot=True)\n",
    "gam = build_gam(term_list)\n",
    "\n",
    "X, y = data[circular_features].to_numpy(), data[target].to_numpy()\n",
    "gam.fit(X,y)\n",
    "\n",
    "title = f\"GAM with circular features, D²: {round(score(gam, X,y)*100)}\"\n",
    "plot_gam_terms(config, gam, circular_features, decision_funct=decision_function, title=title)"
   ]
  },
  {
   "cell_type": "markdown",
   "metadata": {},
   "source": [
    "Plot GAM on full feature set: Nicely visible is the **Nullification** of the features that do not define the target labeling function."
   ]
  },
  {
   "cell_type": "code",
   "execution_count": 13,
   "metadata": {},
   "outputs": [
    {
     "data": {
      "image/png": "[encoded data removed]",
      "text/plain": [
       "<Figure size 432x288 with 5 Axes>"
      ]
     },
     "metadata": {
      "needs_background": "light"
     },
     "output_type": "display_data"
    }
   ],
   "source": [
    "term_list = construct_gam_term({\"plot\": config}, features, plot=True)\n",
    "full_gam = build_gam(term_list)\n",
    "\n",
    "X, y = data[features].to_numpy(), data[target].to_numpy()\n",
    "full_gam.fit(X,y)\n",
    "\n",
    "title = f\"GAM with all features, D²: {round(score(full_gam, X,y)*100)}\"\n",
    "plot_gam_terms(config, full_gam, features, circular_features=circular_features, title=title)"
   ]
  },
  {
   "cell_type": "markdown",
   "metadata": {},
   "source": [
    "Plot GAM on non-circular features for comparison: If circular features are not given, the other features have a reasonable impact on the prediction.\n",
    "But the fit of the model is not optimal. "
   ]
  },
  {
   "cell_type": "code",
   "execution_count": 14,
   "metadata": {},
   "outputs": [
    {
     "data": {
      "image/png": "[encoded data removed]",
      "text/plain": [
       "<Figure size 432x288 with 4 Axes>"
      ]
     },
     "metadata": {
      "needs_background": "light"
     },
     "output_type": "display_data"
    }
   ],
   "source": [
    "non_circular_gam = [gam[1] for gam in sorted_result_gams if gam[0] == nullified_features][0]\n",
    "title = f\"GAM without circular features, D²: {round(score(non_circular_gam, data[nullified_features].to_numpy(), data[target].to_numpy())*100)}\"\n",
    "\n",
    "plot_gam_terms(config, non_circular_gam, nullified_features, title=title)\n"
   ]
  }
 ],
 "metadata": {
  "kernelspec": {
   "display_name": "Python 3",
   "language": "python",
   "name": "python3"
  },
  "language_info": {
   "codemirror_mode": {
    "name": "ipython",
    "version": 3
   },
   "file_extension": ".py",
   "mimetype": "text/x-python",
   "name": "python",
   "nbconvert_exporter": "python",
   "pygments_lexer": "ipython3",
   "version": "3.8.2"
  },
  "pycharm": {
   "stem_cell": {
    "cell_type": "raw",
    "metadata": {
     "collapsed": false
    },
    "source": []
   }
  }
 },
 "nbformat": 4,
 "nbformat_minor": 1
}
