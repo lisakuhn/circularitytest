{
 "cells": [
  {
   "cell_type": "markdown",
   "metadata": {
    "collapsed": true
   },
   "source": [
    "## Sepsis Prediction with SOFA score - Kidney Example - Circularity in Machine Learning Prediction\n"
   ]
  },
  {
   "cell_type": "markdown",
   "metadata": {},
   "source": [
    "In this notebook the circularity test from chapter 2.4.3 of \"Validity, Reliability, and Significance: Empirical Methods for NLP and Data Science\n",
    "\" (Riezler&Hagmann, 2021), for the kidney sofa example is executed and visualized step-by-step, just as circularitytest would handle it internally."
   ]
  },
  {
   "cell_type": "markdown",
   "metadata": {},
   "source": [
    "\n",
    "**Definition Circularity Test (2.6)**: \\\n",
    "Given a dataset of feature-label relations $D = \\{(x^{n}, y^{n})\\}^{N}_{n=1}$ where $x^{n} = (x_1, x_2, . . . , x_p)$ is a $p$-dimensional feature vector, let $C \\subseteq P(\\{1, . . . , p\\})$ indicate the set of candidate circular features in dataset $D$, and let $M := \\{\\mu_c : c \\in C\\}$ be the set of models obtained by fitting a GAM based on feature set $c$ to the data $D$. A set of circular features $c∗$ is detected by applying the following two-step test:\n",
    "1. $c∗ = argmax_{c\\subseteq C} D^2(\\mu_c)$ where $D^2\n",
    "(\\mu_{c∗} )$ is close to 1, and in case\n",
    "the maximizer is not unique, the maximizer is chosen whose\n",
    "associated GAM $\\mu_{c∗}$ has the smallest degrees of freedom.\n",
    "2. The feature shapes of any other features added to the GAM\n",
    "$\\mu_{c∗}$ are nullified in the model $\\mu\\{1,...,p\\}$ that is based on the full\n",
    "feature set."
   ]
  },
  {
   "cell_type": "code",
   "execution_count": 1,
   "metadata": {},
   "outputs": [],
   "source": [
    "# Imports\n",
    "from circularitytest.gam import construct_powerset, construct_gam_term, build_gam, check_nullification, score\n",
    "from circularitytest.utils import load_r_data, preprocess_replace_data\n",
    "from circularitytest.plot import plot_gam_terms\n",
    "from tqdm import tqdm\n",
    "import pandas as pd\n",
    "pd.set_option('display.max_colwidth', 100)\n",
    "pd.set_option('display.max_rows', 100)\n"
   ]
  },
  {
   "cell_type": "markdown",
   "metadata": {},
   "source": [
    "Features, Target (predictions from teacher model) for sepsis prediction with kidney sofa score \\\n",
    "Features are the top 5 most highly correlated features with the teacher model predictions"
   ]
  },
  {
   "cell_type": "code",
   "execution_count": 2,
   "metadata": {},
   "outputs": [],
   "source": [
    "# Feature definitions\n",
    "features = sorted([\"crea\", \"urine24\", \"chlorid\", \"bun\", \"calcium\"])\n",
    "target = \"sofa_circ\"\n"
   ]
  },
  {
   "cell_type": "markdown",
   "metadata": {},
   "source": [
    "Construct all possible feature sets $c$ from the features "
   ]
  },
  {
   "cell_type": "code",
   "execution_count": 3,
   "metadata": {},
   "outputs": [
    {
     "data": {
      "text/plain": [
       "[['bun'],\n",
       " ['calcium'],\n",
       " ['chlorid'],\n",
       " ['crea'],\n",
       " ['urine24'],\n",
       " ['bun', 'calcium'],\n",
       " ['bun', 'chlorid'],\n",
       " ['bun', 'crea'],\n",
       " ['bun', 'urine24'],\n",
       " ['calcium', 'chlorid'],\n",
       " ['calcium', 'crea'],\n",
       " ['calcium', 'urine24'],\n",
       " ['chlorid', 'crea'],\n",
       " ['chlorid', 'urine24'],\n",
       " ['crea', 'urine24'],\n",
       " ['bun', 'calcium', 'chlorid'],\n",
       " ['bun', 'calcium', 'crea'],\n",
       " ['bun', 'calcium', 'urine24'],\n",
       " ['bun', 'chlorid', 'crea'],\n",
       " ['bun', 'chlorid', 'urine24'],\n",
       " ['bun', 'crea', 'urine24'],\n",
       " ['calcium', 'chlorid', 'crea'],\n",
       " ['calcium', 'chlorid', 'urine24'],\n",
       " ['calcium', 'crea', 'urine24'],\n",
       " ['chlorid', 'crea', 'urine24'],\n",
       " ['bun', 'calcium', 'chlorid', 'crea'],\n",
       " ['bun', 'calcium', 'chlorid', 'urine24'],\n",
       " ['bun', 'calcium', 'crea', 'urine24'],\n",
       " ['bun', 'chlorid', 'crea', 'urine24'],\n",
       " ['calcium', 'chlorid', 'crea', 'urine24'],\n",
       " ['bun', 'calcium', 'chlorid', 'crea', 'urine24']]"
      ]
     },
     "execution_count": 3,
     "metadata": {},
     "output_type": "execute_result"
    }
   ],
   "source": [
    "# Obtain feature combinations\n",
    "feature_combinations = construct_powerset(features)\n",
    "feature_combinations"
   ]
  },
  {
   "cell_type": "code",
   "execution_count": 4,
   "metadata": {
    "pycharm": {
     "name": "#%%\n"
    }
   },
   "outputs": [],
   "source": [
    "# Data loading: this is usually handled inside circularitytest\n",
    "data = load_r_data(\"../data/kidney_sofa_example/test_set_with_sofa_predictions.rds\")"
   ]
  },
  {
   "cell_type": "markdown",
   "metadata": {},
   "source": [
    "Fit GAMs on all feature sets \n",
    "and calculate the $D^2$ and effective degrees of freedom for each GAM"
   ]
  },
  {
   "cell_type": "code",
   "execution_count": 5,
   "metadata": {
    "pycharm": {
     "name": "#%%\n"
    }
   },
   "outputs": [
    {
     "name": "stderr",
     "output_type": "stream",
     "text": [
      "Fitting GAMs on Powerset: 100%|██████████| 31/31 [00:51<00:00,  1.67s/it]\n"
     ]
    }
   ],
   "source": [
    "#Fit GAMs for powerset and calculate Deviance explained as well as degrees of freedom\n",
    "gam_results = []\n",
    "\n",
    "\n",
    "for feature_combination in tqdm(feature_combinations, desc=\"Fitting GAMs on Powerset\"):\n",
    "    \n",
    " \n",
    "    term_list = construct_gam_term({}, feature_combination)\n",
    "    gam = build_gam(term_list)\n",
    "\n",
    "    X, y = data[feature_combination].to_numpy(), data[target].to_numpy()\n",
    "\n",
    "    gam.fit(X,y)\n",
    "\n",
    "    result = (feature_combination, gam, round(score(gam, X, y) * 100), gam.statistics_[\"edof\"])\n",
    "\n",
    "    gam_results.append(result)\n"
   ]
  },
  {
   "cell_type": "markdown",
   "metadata": {},
   "source": [
    "Sort GAMs according to $D^2$ and effective degrees of freedom"
   ]
  },
  {
   "cell_type": "code",
   "execution_count": 6,
   "metadata": {
    "pycharm": {
     "name": "#%%\n"
    }
   },
   "outputs": [
    {
     "data": {
      "text/html": [
       "<div>\n",
       "<style scoped>\n",
       "    .dataframe tbody tr th:only-of-type {\n",
       "        vertical-align: middle;\n",
       "    }\n",
       "\n",
       "    .dataframe tbody tr th {\n",
       "        vertical-align: top;\n",
       "    }\n",
       "\n",
       "    .dataframe thead th {\n",
       "        text-align: right;\n",
       "    }\n",
       "</style>\n",
       "<table border=\"1\" class=\"dataframe\">\n",
       "  <thead>\n",
       "    <tr style=\"text-align: right;\">\n",
       "      <th></th>\n",
       "      <th>Features</th>\n",
       "      <th>Deviance Explained</th>\n",
       "      <th>Effective Degrees of Freedom</th>\n",
       "    </tr>\n",
       "  </thead>\n",
       "  <tbody>\n",
       "    <tr>\n",
       "      <th>0</th>\n",
       "      <td>[crea, urine24]</td>\n",
       "      <td>90</td>\n",
       "      <td>15.343560</td>\n",
       "    </tr>\n",
       "    <tr>\n",
       "      <th>1</th>\n",
       "      <td>[calcium, crea, urine24]</td>\n",
       "      <td>90</td>\n",
       "      <td>21.422803</td>\n",
       "    </tr>\n",
       "    <tr>\n",
       "      <th>2</th>\n",
       "      <td>[chlorid, crea, urine24]</td>\n",
       "      <td>90</td>\n",
       "      <td>21.562076</td>\n",
       "    </tr>\n",
       "    <tr>\n",
       "      <th>3</th>\n",
       "      <td>[bun, crea, urine24]</td>\n",
       "      <td>90</td>\n",
       "      <td>22.579841</td>\n",
       "    </tr>\n",
       "    <tr>\n",
       "      <th>4</th>\n",
       "      <td>[calcium, chlorid, crea, urine24]</td>\n",
       "      <td>90</td>\n",
       "      <td>27.568955</td>\n",
       "    </tr>\n",
       "    <tr>\n",
       "      <th>5</th>\n",
       "      <td>[bun, calcium, crea, urine24]</td>\n",
       "      <td>90</td>\n",
       "      <td>28.647461</td>\n",
       "    </tr>\n",
       "    <tr>\n",
       "      <th>6</th>\n",
       "      <td>[bun, chlorid, crea, urine24]</td>\n",
       "      <td>90</td>\n",
       "      <td>28.792448</td>\n",
       "    </tr>\n",
       "    <tr>\n",
       "      <th>7</th>\n",
       "      <td>[bun, calcium, chlorid, crea, urine24]</td>\n",
       "      <td>90</td>\n",
       "      <td>34.786976</td>\n",
       "    </tr>\n",
       "    <tr>\n",
       "      <th>8</th>\n",
       "      <td>[bun, calcium, urine24]</td>\n",
       "      <td>84</td>\n",
       "      <td>21.820875</td>\n",
       "    </tr>\n",
       "    <tr>\n",
       "      <th>9</th>\n",
       "      <td>[bun, chlorid, urine24]</td>\n",
       "      <td>84</td>\n",
       "      <td>21.955074</td>\n",
       "    </tr>\n",
       "    <tr>\n",
       "      <th>10</th>\n",
       "      <td>[bun, calcium, chlorid, urine24]</td>\n",
       "      <td>84</td>\n",
       "      <td>27.964293</td>\n",
       "    </tr>\n",
       "    <tr>\n",
       "      <th>11</th>\n",
       "      <td>[bun, urine24]</td>\n",
       "      <td>83</td>\n",
       "      <td>15.738419</td>\n",
       "    </tr>\n",
       "    <tr>\n",
       "      <th>12</th>\n",
       "      <td>[chlorid, urine24]</td>\n",
       "      <td>76</td>\n",
       "      <td>14.703216</td>\n",
       "    </tr>\n",
       "    <tr>\n",
       "      <th>13</th>\n",
       "      <td>[calcium, chlorid, urine24]</td>\n",
       "      <td>76</td>\n",
       "      <td>20.732698</td>\n",
       "    </tr>\n",
       "    <tr>\n",
       "      <th>14</th>\n",
       "      <td>[urine24]</td>\n",
       "      <td>74</td>\n",
       "      <td>8.480445</td>\n",
       "    </tr>\n",
       "    <tr>\n",
       "      <th>15</th>\n",
       "      <td>[calcium, urine24]</td>\n",
       "      <td>74</td>\n",
       "      <td>14.582786</td>\n",
       "    </tr>\n",
       "    <tr>\n",
       "      <th>16</th>\n",
       "      <td>[bun, calcium, chlorid, crea]</td>\n",
       "      <td>63</td>\n",
       "      <td>27.339446</td>\n",
       "    </tr>\n",
       "    <tr>\n",
       "      <th>17</th>\n",
       "      <td>[calcium, chlorid, crea]</td>\n",
       "      <td>62</td>\n",
       "      <td>20.102951</td>\n",
       "    </tr>\n",
       "    <tr>\n",
       "      <th>18</th>\n",
       "      <td>[bun, chlorid, crea]</td>\n",
       "      <td>62</td>\n",
       "      <td>21.343008</td>\n",
       "    </tr>\n",
       "    <tr>\n",
       "      <th>19</th>\n",
       "      <td>[chlorid, crea]</td>\n",
       "      <td>61</td>\n",
       "      <td>14.093613</td>\n",
       "    </tr>\n",
       "    <tr>\n",
       "      <th>20</th>\n",
       "      <td>[bun, calcium, crea]</td>\n",
       "      <td>57</td>\n",
       "      <td>21.198422</td>\n",
       "    </tr>\n",
       "    <tr>\n",
       "      <th>21</th>\n",
       "      <td>[bun, crea]</td>\n",
       "      <td>55</td>\n",
       "      <td>15.129773</td>\n",
       "    </tr>\n",
       "    <tr>\n",
       "      <th>22</th>\n",
       "      <td>[calcium, crea]</td>\n",
       "      <td>54</td>\n",
       "      <td>13.955210</td>\n",
       "    </tr>\n",
       "    <tr>\n",
       "      <th>23</th>\n",
       "      <td>[crea]</td>\n",
       "      <td>52</td>\n",
       "      <td>7.873688</td>\n",
       "    </tr>\n",
       "    <tr>\n",
       "      <th>24</th>\n",
       "      <td>[bun, calcium, chlorid]</td>\n",
       "      <td>38</td>\n",
       "      <td>20.513735</td>\n",
       "    </tr>\n",
       "    <tr>\n",
       "      <th>25</th>\n",
       "      <td>[bun, chlorid]</td>\n",
       "      <td>35</td>\n",
       "      <td>14.502138</td>\n",
       "    </tr>\n",
       "    <tr>\n",
       "      <th>26</th>\n",
       "      <td>[calcium, chlorid]</td>\n",
       "      <td>23</td>\n",
       "      <td>13.256475</td>\n",
       "    </tr>\n",
       "    <tr>\n",
       "      <th>27</th>\n",
       "      <td>[bun, calcium]</td>\n",
       "      <td>21</td>\n",
       "      <td>14.368282</td>\n",
       "    </tr>\n",
       "    <tr>\n",
       "      <th>28</th>\n",
       "      <td>[chlorid]</td>\n",
       "      <td>17</td>\n",
       "      <td>7.224678</td>\n",
       "    </tr>\n",
       "    <tr>\n",
       "      <th>29</th>\n",
       "      <td>[bun]</td>\n",
       "      <td>13</td>\n",
       "      <td>8.283396</td>\n",
       "    </tr>\n",
       "    <tr>\n",
       "      <th>30</th>\n",
       "      <td>[calcium]</td>\n",
       "      <td>11</td>\n",
       "      <td>7.104939</td>\n",
       "    </tr>\n",
       "  </tbody>\n",
       "</table>\n",
       "</div>"
      ],
      "text/plain": [
       "                                  Features  Deviance Explained  \\\n",
       "0                          [crea, urine24]                  90   \n",
       "1                 [calcium, crea, urine24]                  90   \n",
       "2                 [chlorid, crea, urine24]                  90   \n",
       "3                     [bun, crea, urine24]                  90   \n",
       "4        [calcium, chlorid, crea, urine24]                  90   \n",
       "5            [bun, calcium, crea, urine24]                  90   \n",
       "6            [bun, chlorid, crea, urine24]                  90   \n",
       "7   [bun, calcium, chlorid, crea, urine24]                  90   \n",
       "8                  [bun, calcium, urine24]                  84   \n",
       "9                  [bun, chlorid, urine24]                  84   \n",
       "10        [bun, calcium, chlorid, urine24]                  84   \n",
       "11                          [bun, urine24]                  83   \n",
       "12                      [chlorid, urine24]                  76   \n",
       "13             [calcium, chlorid, urine24]                  76   \n",
       "14                               [urine24]                  74   \n",
       "15                      [calcium, urine24]                  74   \n",
       "16           [bun, calcium, chlorid, crea]                  63   \n",
       "17                [calcium, chlorid, crea]                  62   \n",
       "18                    [bun, chlorid, crea]                  62   \n",
       "19                         [chlorid, crea]                  61   \n",
       "20                    [bun, calcium, crea]                  57   \n",
       "21                             [bun, crea]                  55   \n",
       "22                         [calcium, crea]                  54   \n",
       "23                                  [crea]                  52   \n",
       "24                 [bun, calcium, chlorid]                  38   \n",
       "25                          [bun, chlorid]                  35   \n",
       "26                      [calcium, chlorid]                  23   \n",
       "27                          [bun, calcium]                  21   \n",
       "28                               [chlorid]                  17   \n",
       "29                                   [bun]                  13   \n",
       "30                               [calcium]                  11   \n",
       "\n",
       "    Effective Degrees of Freedom  \n",
       "0                      15.343560  \n",
       "1                      21.422803  \n",
       "2                      21.562076  \n",
       "3                      22.579841  \n",
       "4                      27.568955  \n",
       "5                      28.647461  \n",
       "6                      28.792448  \n",
       "7                      34.786976  \n",
       "8                      21.820875  \n",
       "9                      21.955074  \n",
       "10                     27.964293  \n",
       "11                     15.738419  \n",
       "12                     14.703216  \n",
       "13                     20.732698  \n",
       "14                      8.480445  \n",
       "15                     14.582786  \n",
       "16                     27.339446  \n",
       "17                     20.102951  \n",
       "18                     21.343008  \n",
       "19                     14.093613  \n",
       "20                     21.198422  \n",
       "21                     15.129773  \n",
       "22                     13.955210  \n",
       "23                      7.873688  \n",
       "24                     20.513735  \n",
       "25                     14.502138  \n",
       "26                     13.256475  \n",
       "27                     14.368282  \n",
       "28                      7.224678  \n",
       "29                      8.283396  \n",
       "30                      7.104939  "
      ]
     },
     "execution_count": 6,
     "metadata": {},
     "output_type": "execute_result"
    }
   ],
   "source": [
    "sorted_result_gams = sorted(gam_results, key=lambda x: (x[2], -x[3]), reverse=True)\n",
    "\n",
    "df = pd.DataFrame(sorted_result_gams, columns =['Features', 'GAM', 'Deviance Explained', \"Effective Degrees of Freedom\"]).drop('GAM', 1)\n",
    "df\n"
   ]
  },
  {
   "cell_type": "markdown",
   "metadata": {},
   "source": [
    "Check for step 1 of Circularity Test: \\\n",
    "    - Extract features $c*$ where GAM $\\mu_{c*}$ has highest $D^2$ and check that $D^2(\\mu_{c*})$ is close to 1 \\\n",
    "    - Check that it has the smallest degree of freedom among GAMs with same $D^2$ (not strictly necessary in this instance due to sorting function)"
   ]
  },
  {
   "cell_type": "code",
   "execution_count": 7,
   "metadata": {
    "pycharm": {
     "name": "#%%\n"
    }
   },
   "outputs": [],
   "source": [
    "#check that top gam is close to 1\n",
    "circularity_candidate = sorted_result_gams[0]\n",
    "\n",
    "assert circularity_candidate[2] > 89, \"No GAM has a good fit for the data\"\n",
    "assert all(i > circularity_candidate[3] for i in [elem[3] for elem in sorted_result_gams if elem[0] != circularity_candidate[0]\n",
    "                                                     and circularity_candidate[2] == elem[2]]),\\\n",
    "                \"Best GAM does not have the smallest degrees of freedom\""
   ]
  },
  {
   "cell_type": "markdown",
   "metadata": {},
   "source": [
    "Check for step 2 of Circularity Test: **Nullification** \\\n",
    "Take GAM fitted on full feature set and check that all features that are not in $c*$ are nullified: feature shapes are constant (zero) function. I used the standard deviation of a smooth term as the measure for nullification.\n",
    "\n",
    "-> feature shapes are visualized as further proof under following section Visualizations"
   ]
  },
  {
   "cell_type": "code",
   "execution_count": 8,
   "metadata": {},
   "outputs": [
    {
     "data": {
      "text/plain": [
       "['bun', 'calcium', 'chlorid']"
      ]
     },
     "execution_count": 8,
     "metadata": {},
     "output_type": "execute_result"
    }
   ],
   "source": [
    "# If we have a circularity candidate: check for nullification in GAM with all features\n",
    "full_gam = [gam[1] for gam in sorted_result_gams if gam[0] == features][0]\n",
    "\n",
    "nullified_features = check_nullification(full_gam, features, threshold=0.27)\n",
    "nullified_features\n"
   ]
  },
  {
   "cell_type": "code",
   "execution_count": 9,
   "metadata": {
    "pycharm": {
     "name": "#%%\n"
    }
   },
   "outputs": [
    {
     "name": "stdout",
     "output_type": "stream",
     "text": [
      "Circular features found: crea, urine24\n"
     ]
    }
   ],
   "source": [
    "# Check that nullified features are not in circularity candidate feature set c*\n",
    "if nullified_features == sorted(list(set(features)-set(circularity_candidate[0]))):\n",
    "    circular_features = circularity_candidate[0]\n",
    "    print(f\"Circular features found: {', '.join(circular_features)}\")\n",
    "\n",
    "else:\n",
    "    print(\"No circular features were found.\")"
   ]
  },
  {
   "cell_type": "markdown",
   "metadata": {},
   "source": [
    "After applying the Circularity Test we can conclude that the feature creatinine(crea) and urine 24 are circular features: \\\n",
    "    - The GAM trained on the crea and urine 24 feature only achieves optimal fit to data with the smallest degrees of freedom. \\\n",
    "    - All other features are nullified in the presence of the crea, urine24 feature.  \\\n",
    "Therefore, the teacher model must have had access to the circular features crea and urine24. \n",
    "\n",
    "\n",
    "Visualizations are below for further clarification. "
   ]
  },
  {
   "cell_type": "markdown",
   "metadata": {},
   "source": [
    "### Visualizations"
   ]
  },
  {
   "cell_type": "code",
   "execution_count": 10,
   "metadata": {
    "pycharm": {
     "name": "#%%\n"
    }
   },
   "outputs": [],
   "source": [
    "#Plotting definitions for nice presentation: x and y limits, increased number of splines\n",
    "\n",
    "config = {\"ylim\": (-1.3, 4.3),\n",
    "         \"urine24\": {\n",
    "             \"xlim\": (0,1000),\n",
    "             \"n\": 1000,\n",
    "             \"n_splines\": 150\n",
    "         },\n",
    "         \"crea\": {\n",
    "             \"xlim\": (0.15, 5.2),\n",
    "             \"n_splines\": 125\n",
    "         },\n",
    "         \"calcium\":{\n",
    "             \"xlim\": (0.5, 1.6)\n",
    "         },\n",
    "         \"bun\":{\n",
    "             \"xlim\": (10, 180)\n",
    "         },\n",
    "          \"chlorid\": {\n",
    "              \"xlim\": (95, 140)\n",
    "          }}\n"
   ]
  },
  {
   "cell_type": "markdown",
   "metadata": {},
   "source": [
    "Definition of the deterministic rule for target in this IR example\n",
    "\n",
    "| Condition 1 | Condition 2 | Kidney SOFA Score |\n",
    "| --- | --- | --- |\n",
    "| 0 < creatinine $\\leq$ 1.2 | 500 < urine | 0 |\n",
    "| 1.2 < creatinine $\\leq$ 1.9 | | 1 |\n",
    "| 1.9 < creatinine $\\leq$ 3.4 | | 2 |\n",
    "| 3.4 < creatinine $\\leq$ 4.9 | 200 < urine $\\leq$ 500| 3 |\n",
    "| creatinine > 4.9 | 0 < urine $\\leq$ 200| 4 |"
   ]
  },
  {
   "cell_type": "code",
   "execution_count": 11,
   "metadata": {},
   "outputs": [],
   "source": [
    "# Encode the rule in dictionary structure for plotting function so that we can\n",
    "# plot GAM against decision function\n",
    "decision_function = {0: {\"crea\": 0,\n",
    "                        \"urine24\": 500},\n",
    "                    1: {\"crea\": 1.2},\n",
    "                    2: {\"crea\": 1.9},\n",
    "                    3: {\"bili\": 3.4,\n",
    "                        \"urine24\": 200},\n",
    "                    4: {\"crea\": 4.9,\n",
    "                       \"urine24\": 0}}\n"
   ]
  },
  {
   "cell_type": "markdown",
   "metadata": {},
   "source": [
    "Plot GAM $\\mu_{c*}$ for identified circular feature set $c*$ reconstructing target labeling function:\n",
    "\n",
    "It is clear that the GAM can mostly reconstruct the target function given the features that define the function and the fit is (too) perfect. Inaccurcacies in the reconstruction of the decision function are explained in the book by lack of data in certain areas for the circular features."
   ]
  },
  {
   "cell_type": "code",
   "execution_count": 12,
   "metadata": {
    "pycharm": {
     "name": "#%%\n"
    }
   },
   "outputs": [
    {
     "data": {
      "image/png": "[encoded data removed]",
      "text/plain": [
       "<Figure size 432x288 with 2 Axes>"
      ]
     },
     "metadata": {
      "needs_background": "light"
     },
     "output_type": "display_data"
    }
   ],
   "source": [
    "term_list = construct_gam_term({\"plot\": config}, circular_features, plot=True)\n",
    "gam = build_gam(term_list)\n",
    "\n",
    "X, y = data[circular_features].to_numpy(), data[target].to_numpy()\n",
    "gam.fit(X,y)\n",
    "\n",
    "title = f\"GAM with circular features, D²: {round(score(gam, X,y)*100)}\"\n",
    "plot_gam_terms(config, gam, circular_features, circular_features=circular_features, decision_funct=decision_function, title=title)"
   ]
  },
  {
   "cell_type": "markdown",
   "metadata": {},
   "source": [
    "Plot GAM on full feature set: Nicely visible is the **Nullification** of the features that do not define the target labeling function."
   ]
  },
  {
   "cell_type": "code",
   "execution_count": 13,
   "metadata": {},
   "outputs": [
    {
     "data": {
      "image/png": "[encoded data removed]",
      "text/plain": [
       "<Figure size 432x288 with 5 Axes>"
      ]
     },
     "metadata": {
      "needs_background": "light"
     },
     "output_type": "display_data"
    }
   ],
   "source": [
    "term_list = construct_gam_term({\"plot\": config}, features, plot=True)\n",
    "full_gam = build_gam(term_list)\n",
    "\n",
    "X, y = data[features].to_numpy(), data[target].to_numpy()\n",
    "full_gam.fit(X,y)\n",
    "\n",
    "title = f\"GAM with all features, D²: {round(score(full_gam, X,y)*100)}\"\n",
    "plot_gam_terms(config, full_gam, features, circular_features=circular_features, title=title)"
   ]
  },
  {
   "cell_type": "markdown",
   "metadata": {},
   "source": [
    "Plot GAM on non-circular features for comparison: If circular features are not given, the other features have a reasonable impact on the prediction.\n",
    "But the fit of the model is not optimal. "
   ]
  },
  {
   "cell_type": "code",
   "execution_count": 14,
   "metadata": {},
   "outputs": [
    {
     "data": {
      "image/png": "[encoded data removed]",
      "text/plain": [
       "<Figure size 432x288 with 3 Axes>"
      ]
     },
     "metadata": {
      "needs_background": "light"
     },
     "output_type": "display_data"
    }
   ],
   "source": [
    "non_circular_gam = [gam[1] for gam in sorted_result_gams if gam[0] == nullified_features][0]\n",
    "title = f\"GAM without circular features, D²: {round(score(non_circular_gam, data[nullified_features].to_numpy(), data[target].to_numpy())*100)}\"\n",
    "\n",
    "plot_gam_terms(config, non_circular_gam, nullified_features, title=title)\n"
   ]
  }
 ],
 "metadata": {
  "kernelspec": {
   "display_name": "Python 3",
   "language": "python",
   "name": "python3"
  },
  "language_info": {
   "codemirror_mode": {
    "name": "ipython",
    "version": 3
   },
   "file_extension": ".py",
   "mimetype": "text/x-python",
   "name": "python",
   "nbconvert_exporter": "python",
   "pygments_lexer": "ipython3",
   "version": "3.8.2"
  },
  "pycharm": {
   "stem_cell": {
    "cell_type": "raw",
    "source": [],
    "metadata": {
     "collapsed": false
    }
   }
  }
 },
 "nbformat": 4,
 "nbformat_minor": 1
}