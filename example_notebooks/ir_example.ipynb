{
 "cells": [
  {
   "cell_type": "markdown",
   "metadata": {
    "collapsed": true
   },
   "source": [
    "## Information Extraction Example - Circularity in Machine Learning Annotation\n"
   ]
  },
  {
   "cell_type": "markdown",
   "metadata": {},
   "source": [
    "In this notebook the circularity test from chapter 2.4.3 of \"Validity, Reliability, and Significance: Empirical Methods for NLP and Data Science\n",
    "\" (Riezler&Hagmann, 2021), for the IR example is executed and visualized step-by-step, just as circularitytest would handle it internally."
   ]
  },
  {
   "cell_type": "markdown",
   "metadata": {},
   "source": [
    "\n",
    "**Definition Circularity Test (2.6)**: \\\n",
    "Given a dataset of feature-label relations $D = \\{(x^{n}, y^{n})\\}^{N}_{n=1}$ where $x^{n} = (x_1, x_2, . . . , x_p)$ is a $p$-dimensional feature vector, let $C \\subseteq P(\\{1, . . . , p\\})$ indicate the set of candidate circular features in dataset $D$, and let $M := \\{\\mu_c : c \\in C\\}$ be the set of models obtained by fitting a GAM based on feature set $c$ to the data $D$. A set of circular features $c∗$ is detected by applying the following two-step test:\n",
    "1. $c∗ = argmax_{c\\subseteq C} D^2(\\mu_c)$ where $D^2\n",
    "(\\mu_{c∗} )$ is close to 1, and in case\n",
    "the maximizer is not unique, the maximizer is chosen whose\n",
    "associated GAM $\\mu_{c∗}$ has the smallest degrees of freedom.\n",
    "2. The feature shapes of any other features added to the GAM\n",
    "$\\mu_{c∗}$ are nullified in the model $\\mu\\{1,...,p\\}$ that is based on the full\n",
    "feature set."
   ]
  },
  {
   "cell_type": "code",
   "execution_count": 1,
   "metadata": {},
   "outputs": [],
   "source": [
    "# Imports\n",
    "from circularitytest.gam import construct_powerset, construct_gam_term, build_gam, check_nullification, score\n",
    "from circularitytest.utils import load_r_data, preprocess_replace_data\n",
    "from circularitytest.plot import plot_gam_terms\n",
    "from tqdm import tqdm\n",
    "import pandas as pd\n",
    "pd.set_option('display.max_colwidth', 100)\n"
   ]
  },
  {
   "cell_type": "markdown",
   "metadata": {},
   "source": [
    "Features, Target for cross-lingual patent retrieval"
   ]
  },
  {
   "cell_type": "code",
   "execution_count": 2,
   "metadata": {},
   "outputs": [],
   "source": [
    "# Feature definitions\n",
    "features = sorted([\"cited_inventor\" , \"cited_examiner\", \"cited_family\", \"score_neural\", \"score_tfIdf\"])\n",
    "target = \"relevance\"\n"
   ]
  },
  {
   "cell_type": "markdown",
   "metadata": {},
   "source": [
    "Construct all possible feature sets $c$ from the features "
   ]
  },
  {
   "cell_type": "code",
   "execution_count": 3,
   "metadata": {},
   "outputs": [
    {
     "data": {
      "text/plain": [
       "[['cited_examiner'],\n",
       " ['cited_family'],\n",
       " ['cited_inventor'],\n",
       " ['score_neural'],\n",
       " ['score_tfIdf'],\n",
       " ['cited_examiner', 'cited_family'],\n",
       " ['cited_examiner', 'cited_inventor'],\n",
       " ['cited_examiner', 'score_neural'],\n",
       " ['cited_examiner', 'score_tfIdf'],\n",
       " ['cited_family', 'cited_inventor'],\n",
       " ['cited_family', 'score_neural'],\n",
       " ['cited_family', 'score_tfIdf'],\n",
       " ['cited_inventor', 'score_neural'],\n",
       " ['cited_inventor', 'score_tfIdf'],\n",
       " ['score_neural', 'score_tfIdf'],\n",
       " ['cited_examiner', 'cited_family', 'cited_inventor'],\n",
       " ['cited_examiner', 'cited_family', 'score_neural'],\n",
       " ['cited_examiner', 'cited_family', 'score_tfIdf'],\n",
       " ['cited_examiner', 'cited_inventor', 'score_neural'],\n",
       " ['cited_examiner', 'cited_inventor', 'score_tfIdf'],\n",
       " ['cited_examiner', 'score_neural', 'score_tfIdf'],\n",
       " ['cited_family', 'cited_inventor', 'score_neural'],\n",
       " ['cited_family', 'cited_inventor', 'score_tfIdf'],\n",
       " ['cited_family', 'score_neural', 'score_tfIdf'],\n",
       " ['cited_inventor', 'score_neural', 'score_tfIdf'],\n",
       " ['cited_examiner', 'cited_family', 'cited_inventor', 'score_neural'],\n",
       " ['cited_examiner', 'cited_family', 'cited_inventor', 'score_tfIdf'],\n",
       " ['cited_examiner', 'cited_family', 'score_neural', 'score_tfIdf'],\n",
       " ['cited_examiner', 'cited_inventor', 'score_neural', 'score_tfIdf'],\n",
       " ['cited_family', 'cited_inventor', 'score_neural', 'score_tfIdf'],\n",
       " ['cited_examiner',\n",
       "  'cited_family',\n",
       "  'cited_inventor',\n",
       "  'score_neural',\n",
       "  'score_tfIdf']]"
      ]
     },
     "execution_count": 3,
     "metadata": {},
     "output_type": "execute_result"
    }
   ],
   "source": [
    "# Obtain feature combinations\n",
    "feature_combinations = construct_powerset(features)\n",
    "feature_combinations"
   ]
  },
  {
   "cell_type": "code",
   "execution_count": 4,
   "metadata": {
    "pycharm": {
     "name": "#%%\n"
    }
   },
   "outputs": [],
   "source": [
    "# Data loading utils: this is usually handled inside circularitytest\n",
    "data = load_r_data(\"../data/ir_example/ir_trainset.rds\")\n",
    "\n",
    "# convert string columns to numerical values\n",
    "preprocess = {\"columns\": [\"cited_inventor\", \"cited_examiner\", \"cited_family\"],\n",
    "             \"replace\": {\"no\": 0, \"yes\": 1}} \n",
    "\n",
    "data = preprocess_replace_data(data, preprocess)\n",
    "\n",
    "#specify GAM terms for certain features: for categorical terms: use linear term in GAM\n",
    "configuration = {\"features\": {\n",
    "                \"cited_inventor\":\n",
    "                     {\"term_type\": \"linear_term\", \"penalties\": \"none\"}, \n",
    "                 \"cited_examiner\":\n",
    "                     {\"term_type\": \"linear_term\", \"penalties\": \"none\"},\n",
    "                 \"cited_family\":\n",
    "                     {\"term_type\": \"linear_term\", \"penalties\": \"none\"}}}"
   ]
  },
  {
   "cell_type": "markdown",
   "metadata": {},
   "source": [
    "Fit GAMs on all feature sets \n",
    "and calculate the $D^2$ and effective degrees of freedom for each GAM"
   ]
  },
  {
   "cell_type": "code",
   "execution_count": 5,
   "metadata": {
    "pycharm": {
     "name": "#%%\n"
    }
   },
   "outputs": [
    {
     "name": "stderr",
     "output_type": "stream",
     "text": [
      "Fitting GAMs on Powerset: 100%|██████████| 31/31 [01:38<00:00,  3.18s/it]\n"
     ]
    }
   ],
   "source": [
    "#Fit GAMs for powerset and calculate Deviance explained as well as degrees of freedom\n",
    "gam_results = []\n",
    "\n",
    "\n",
    "for feature_combination in tqdm(feature_combinations, desc=\"Fitting GAMs on Powerset\"):\n",
    "    \n",
    " \n",
    "    term_list = construct_gam_term(configuration, feature_combination)\n",
    "    gam = build_gam(term_list)\n",
    "\n",
    "    X, y = data[feature_combination].to_numpy(), data[target].to_numpy()\n",
    "\n",
    "    gam.fit(X,y)\n",
    "\n",
    "    result = (feature_combination, gam, round(score(gam, X, y) * 100), gam.statistics_[\"edof\"])\n",
    "\n",
    "    gam_results.append(result)\n"
   ]
  },
  {
   "cell_type": "markdown",
   "metadata": {},
   "source": [
    "Sort GAMs according to $D^2$ and effective degrees of freedom"
   ]
  },
  {
   "cell_type": "code",
   "execution_count": 6,
   "metadata": {
    "pycharm": {
     "name": "#%%\n"
    }
   },
   "outputs": [
    {
     "data": {
      "text/html": [
       "<div>\n",
       "<style scoped>\n",
       "    .dataframe tbody tr th:only-of-type {\n",
       "        vertical-align: middle;\n",
       "    }\n",
       "\n",
       "    .dataframe tbody tr th {\n",
       "        vertical-align: top;\n",
       "    }\n",
       "\n",
       "    .dataframe thead th {\n",
       "        text-align: right;\n",
       "    }\n",
       "</style>\n",
       "<table border=\"1\" class=\"dataframe\">\n",
       "  <thead>\n",
       "    <tr style=\"text-align: right;\">\n",
       "      <th></th>\n",
       "      <th>Features</th>\n",
       "      <th>Deviance Explained</th>\n",
       "      <th>Effective Degrees of Freedom</th>\n",
       "    </tr>\n",
       "  </thead>\n",
       "  <tbody>\n",
       "    <tr>\n",
       "      <th>0</th>\n",
       "      <td>[cited_examiner, cited_family, cited_inventor]</td>\n",
       "      <td>100</td>\n",
       "      <td>4.000000</td>\n",
       "    </tr>\n",
       "    <tr>\n",
       "      <th>1</th>\n",
       "      <td>[cited_examiner, cited_family, cited_inventor, score_neural]</td>\n",
       "      <td>100</td>\n",
       "      <td>8.958498</td>\n",
       "    </tr>\n",
       "    <tr>\n",
       "      <th>2</th>\n",
       "      <td>[cited_examiner, cited_family, cited_inventor, score_tfIdf]</td>\n",
       "      <td>100</td>\n",
       "      <td>10.900543</td>\n",
       "    </tr>\n",
       "    <tr>\n",
       "      <th>3</th>\n",
       "      <td>[cited_examiner, cited_family, cited_inventor, score_neural, score_tfIdf]</td>\n",
       "      <td>100</td>\n",
       "      <td>15.856181</td>\n",
       "    </tr>\n",
       "    <tr>\n",
       "      <th>4</th>\n",
       "      <td>[cited_examiner, cited_family, score_neural]</td>\n",
       "      <td>95</td>\n",
       "      <td>7.961783</td>\n",
       "    </tr>\n",
       "    <tr>\n",
       "      <th>5</th>\n",
       "      <td>[cited_examiner, cited_family, score_tfIdf]</td>\n",
       "      <td>95</td>\n",
       "      <td>9.900650</td>\n",
       "    </tr>\n",
       "    <tr>\n",
       "      <th>6</th>\n",
       "      <td>[cited_examiner, cited_family, score_neural, score_tfIdf]</td>\n",
       "      <td>95</td>\n",
       "      <td>14.857958</td>\n",
       "    </tr>\n",
       "    <tr>\n",
       "      <th>7</th>\n",
       "      <td>[cited_examiner, cited_family]</td>\n",
       "      <td>94</td>\n",
       "      <td>3.000000</td>\n",
       "    </tr>\n",
       "    <tr>\n",
       "      <th>8</th>\n",
       "      <td>[cited_examiner, cited_inventor, score_tfIdf]</td>\n",
       "      <td>86</td>\n",
       "      <td>9.900591</td>\n",
       "    </tr>\n",
       "    <tr>\n",
       "      <th>9</th>\n",
       "      <td>[cited_examiner, cited_inventor, score_neural, score_tfIdf]</td>\n",
       "      <td>86</td>\n",
       "      <td>14.857362</td>\n",
       "    </tr>\n",
       "    <tr>\n",
       "      <th>10</th>\n",
       "      <td>[cited_examiner, score_neural, score_tfIdf]</td>\n",
       "      <td>85</td>\n",
       "      <td>13.858681</td>\n",
       "    </tr>\n",
       "    <tr>\n",
       "      <th>11</th>\n",
       "      <td>[cited_examiner, score_tfIdf]</td>\n",
       "      <td>83</td>\n",
       "      <td>8.900691</td>\n",
       "    </tr>\n",
       "    <tr>\n",
       "      <th>12</th>\n",
       "      <td>[cited_examiner, cited_inventor, score_neural]</td>\n",
       "      <td>79</td>\n",
       "      <td>7.962965</td>\n",
       "    </tr>\n",
       "    <tr>\n",
       "      <th>13</th>\n",
       "      <td>[cited_examiner, score_neural]</td>\n",
       "      <td>77</td>\n",
       "      <td>6.965239</td>\n",
       "    </tr>\n",
       "    <tr>\n",
       "      <th>14</th>\n",
       "      <td>[cited_examiner, cited_inventor]</td>\n",
       "      <td>73</td>\n",
       "      <td>3.000000</td>\n",
       "    </tr>\n",
       "    <tr>\n",
       "      <th>15</th>\n",
       "      <td>[cited_examiner]</td>\n",
       "      <td>67</td>\n",
       "      <td>2.000000</td>\n",
       "    </tr>\n",
       "    <tr>\n",
       "      <th>16</th>\n",
       "      <td>[cited_family, score_neural, score_tfIdf]</td>\n",
       "      <td>64</td>\n",
       "      <td>13.860121</td>\n",
       "    </tr>\n",
       "    <tr>\n",
       "      <th>17</th>\n",
       "      <td>[cited_family, cited_inventor, score_neural, score_tfIdf]</td>\n",
       "      <td>64</td>\n",
       "      <td>14.859599</td>\n",
       "    </tr>\n",
       "    <tr>\n",
       "      <th>18</th>\n",
       "      <td>[score_neural, score_tfIdf]</td>\n",
       "      <td>61</td>\n",
       "      <td>12.860554</td>\n",
       "    </tr>\n",
       "    <tr>\n",
       "      <th>19</th>\n",
       "      <td>[cited_inventor, score_neural, score_tfIdf]</td>\n",
       "      <td>61</td>\n",
       "      <td>13.860079</td>\n",
       "    </tr>\n",
       "    <tr>\n",
       "      <th>20</th>\n",
       "      <td>[cited_family, score_tfIdf]</td>\n",
       "      <td>60</td>\n",
       "      <td>8.900803</td>\n",
       "    </tr>\n",
       "    <tr>\n",
       "      <th>21</th>\n",
       "      <td>[cited_family, cited_inventor, score_tfIdf]</td>\n",
       "      <td>60</td>\n",
       "      <td>9.900766</td>\n",
       "    </tr>\n",
       "    <tr>\n",
       "      <th>22</th>\n",
       "      <td>[score_tfIdf]</td>\n",
       "      <td>56</td>\n",
       "      <td>7.900849</td>\n",
       "    </tr>\n",
       "    <tr>\n",
       "      <th>23</th>\n",
       "      <td>[cited_inventor, score_tfIdf]</td>\n",
       "      <td>56</td>\n",
       "      <td>8.900808</td>\n",
       "    </tr>\n",
       "    <tr>\n",
       "      <th>24</th>\n",
       "      <td>[cited_family, score_neural]</td>\n",
       "      <td>52</td>\n",
       "      <td>6.967594</td>\n",
       "    </tr>\n",
       "    <tr>\n",
       "      <th>25</th>\n",
       "      <td>[cited_family, cited_inventor, score_neural]</td>\n",
       "      <td>52</td>\n",
       "      <td>7.966083</td>\n",
       "    </tr>\n",
       "    <tr>\n",
       "      <th>26</th>\n",
       "      <td>[score_neural]</td>\n",
       "      <td>44</td>\n",
       "      <td>5.969709</td>\n",
       "    </tr>\n",
       "    <tr>\n",
       "      <th>27</th>\n",
       "      <td>[cited_inventor, score_neural]</td>\n",
       "      <td>44</td>\n",
       "      <td>6.968526</td>\n",
       "    </tr>\n",
       "    <tr>\n",
       "      <th>28</th>\n",
       "      <td>[cited_family, cited_inventor]</td>\n",
       "      <td>31</td>\n",
       "      <td>3.000000</td>\n",
       "    </tr>\n",
       "    <tr>\n",
       "      <th>29</th>\n",
       "      <td>[cited_family]</td>\n",
       "      <td>26</td>\n",
       "      <td>2.000000</td>\n",
       "    </tr>\n",
       "    <tr>\n",
       "      <th>30</th>\n",
       "      <td>[cited_inventor]</td>\n",
       "      <td>5</td>\n",
       "      <td>2.000000</td>\n",
       "    </tr>\n",
       "  </tbody>\n",
       "</table>\n",
       "</div>"
      ],
      "text/plain": [
       "                                                                     Features  \\\n",
       "0                              [cited_examiner, cited_family, cited_inventor]   \n",
       "1                [cited_examiner, cited_family, cited_inventor, score_neural]   \n",
       "2                 [cited_examiner, cited_family, cited_inventor, score_tfIdf]   \n",
       "3   [cited_examiner, cited_family, cited_inventor, score_neural, score_tfIdf]   \n",
       "4                                [cited_examiner, cited_family, score_neural]   \n",
       "5                                 [cited_examiner, cited_family, score_tfIdf]   \n",
       "6                   [cited_examiner, cited_family, score_neural, score_tfIdf]   \n",
       "7                                              [cited_examiner, cited_family]   \n",
       "8                               [cited_examiner, cited_inventor, score_tfIdf]   \n",
       "9                 [cited_examiner, cited_inventor, score_neural, score_tfIdf]   \n",
       "10                                [cited_examiner, score_neural, score_tfIdf]   \n",
       "11                                              [cited_examiner, score_tfIdf]   \n",
       "12                             [cited_examiner, cited_inventor, score_neural]   \n",
       "13                                             [cited_examiner, score_neural]   \n",
       "14                                           [cited_examiner, cited_inventor]   \n",
       "15                                                           [cited_examiner]   \n",
       "16                                  [cited_family, score_neural, score_tfIdf]   \n",
       "17                  [cited_family, cited_inventor, score_neural, score_tfIdf]   \n",
       "18                                                [score_neural, score_tfIdf]   \n",
       "19                                [cited_inventor, score_neural, score_tfIdf]   \n",
       "20                                                [cited_family, score_tfIdf]   \n",
       "21                                [cited_family, cited_inventor, score_tfIdf]   \n",
       "22                                                              [score_tfIdf]   \n",
       "23                                              [cited_inventor, score_tfIdf]   \n",
       "24                                               [cited_family, score_neural]   \n",
       "25                               [cited_family, cited_inventor, score_neural]   \n",
       "26                                                             [score_neural]   \n",
       "27                                             [cited_inventor, score_neural]   \n",
       "28                                             [cited_family, cited_inventor]   \n",
       "29                                                             [cited_family]   \n",
       "30                                                           [cited_inventor]   \n",
       "\n",
       "    Deviance Explained  Effective Degrees of Freedom  \n",
       "0                  100                      4.000000  \n",
       "1                  100                      8.958498  \n",
       "2                  100                     10.900543  \n",
       "3                  100                     15.856181  \n",
       "4                   95                      7.961783  \n",
       "5                   95                      9.900650  \n",
       "6                   95                     14.857958  \n",
       "7                   94                      3.000000  \n",
       "8                   86                      9.900591  \n",
       "9                   86                     14.857362  \n",
       "10                  85                     13.858681  \n",
       "11                  83                      8.900691  \n",
       "12                  79                      7.962965  \n",
       "13                  77                      6.965239  \n",
       "14                  73                      3.000000  \n",
       "15                  67                      2.000000  \n",
       "16                  64                     13.860121  \n",
       "17                  64                     14.859599  \n",
       "18                  61                     12.860554  \n",
       "19                  61                     13.860079  \n",
       "20                  60                      8.900803  \n",
       "21                  60                      9.900766  \n",
       "22                  56                      7.900849  \n",
       "23                  56                      8.900808  \n",
       "24                  52                      6.967594  \n",
       "25                  52                      7.966083  \n",
       "26                  44                      5.969709  \n",
       "27                  44                      6.968526  \n",
       "28                  31                      3.000000  \n",
       "29                  26                      2.000000  \n",
       "30                   5                      2.000000  "
      ]
     },
     "execution_count": 6,
     "metadata": {},
     "output_type": "execute_result"
    }
   ],
   "source": [
    "sorted_result_gams = sorted(gam_results, key=lambda x: (x[2], -x[3]), reverse=True)\n",
    "\n",
    "df = pd.DataFrame(sorted_result_gams, columns =['Features', 'GAM', 'Deviance Explained', \"Effective Degrees of Freedom\"]).drop('GAM', 1)\n",
    "df\n"
   ]
  },
  {
   "cell_type": "markdown",
   "metadata": {},
   "source": [
    "Check for step 1 of Circularity Test: \\\n",
    "    - Extract features $c*$ where GAM $\\mu_{c*}$ has highest $D^2$ and check that $D^2(\\mu_{c*})$ is close to 1 \\\n",
    "    - Check that it has the smallest degree of freedom among GAMs with same $D^2$ (not strictly necessary in this instance due to sorting function)"
   ]
  },
  {
   "cell_type": "code",
   "execution_count": 7,
   "metadata": {
    "pycharm": {
     "name": "#%%\n"
    }
   },
   "outputs": [],
   "source": [
    "#check that top gam is close to 1\n",
    "circularity_candidate = sorted_result_gams[0]\n",
    "\n",
    "assert circularity_candidate[2] > 99, \"No GAM has a good fit for the data\"\n",
    "assert all(i > circularity_candidate[3] for i in [elem[3] for elem in sorted_result_gams if elem[0] != circularity_candidate[0]\n",
    "                                                     and circularity_candidate[2] == elem[2]]),\\\n",
    "                \"Best GAM does not have the smallest degrees of freedom\""
   ]
  },
  {
   "cell_type": "markdown",
   "metadata": {},
   "source": [
    "Check for step 2 of Circularity Test: **Nullification** \\\n",
    "Take GAM fitted on full feature set and check that all features that are not in $c*$ are nullified: feature shapes are constant (zero) function. I used the standard deviation as a measure for nullification. \n",
    "\n",
    "-> feature shapes are visualized as further proof under following section Visualizations"
   ]
  },
  {
   "cell_type": "code",
   "execution_count": 8,
   "metadata": {},
   "outputs": [
    {
     "data": {
      "text/plain": [
       "['score_neural', 'score_tfIdf']"
      ]
     },
     "execution_count": 8,
     "metadata": {},
     "output_type": "execute_result"
    }
   ],
   "source": [
    "# If we have a circularity candidate: check for nullification in GAM with all features\n",
    "full_gam = [gam[1] for gam in sorted_result_gams if gam[0] == features][0]\n",
    "\n",
    "nullified_features = check_nullification(full_gam, features)\n",
    "nullified_features\n"
   ]
  },
  {
   "cell_type": "code",
   "execution_count": 9,
   "metadata": {
    "pycharm": {
     "name": "#%%\n"
    }
   },
   "outputs": [
    {
     "name": "stdout",
     "output_type": "stream",
     "text": [
      "Circular features found: cited_examiner, cited_family, cited_inventor\n"
     ]
    }
   ],
   "source": [
    "# Check that nullified features are not in circularity candidate feature set c*\n",
    "if nullified_features == sorted(list(set(features)-set(circularity_candidate[0]))):\n",
    "    circular_features = circularity_candidate[0]\n",
    "    print(f\"Circular features found: {', '.join(circular_features)}\")\n",
    "\n",
    "else:\n",
    "    print(\"No circular features were found.\")"
   ]
  },
  {
   "cell_type": "markdown",
   "metadata": {},
   "source": [
    "After applying the Circularity Test we can conclude that the features cited_examiner, cited_family and cited_inventor are indeed circular features: \\\n",
    "    - The GAM trained on the citation features only achieves optimal fit to data with the smallest degrees of freedom. \\\n",
    "    - All other features are nullified in the presence of the citation features.  \\\n",
    "Visualizations are below for further clarification. "
   ]
  },
  {
   "cell_type": "markdown",
   "metadata": {
    "pycharm": {
     "name": "#%% md\n"
    }
   },
   "source": [
    "### Visualizations"
   ]
  },
  {
   "cell_type": "code",
   "execution_count": 10,
   "metadata": {
    "pycharm": {
     "name": "#%%\n"
    }
   },
   "outputs": [],
   "source": [
    "#Plotting definitions for nice presentation: x and y limits, combine feature shapes for\n",
    "# circular features in one subplot\n",
    "\n",
    "config = {\"ylim\": (-0.5, 3.5),\n",
    "         \"categorical\": {\n",
    "             \"combine\": [\"cited_inventor\", \"cited_examiner\", \"cited_family\"],\n",
    "             \"combined_name\": \"citation_feature\"\n",
    "         },\n",
    "         \"citation_feature\": {\n",
    "             \"xlim\": (0,3)\n",
    "         },\n",
    "         \"score_neural\": {\n",
    "             \"xlim\": (-20, 15)\n",
    "         }}\n",
    "\n"
   ]
  },
  {
   "cell_type": "markdown",
   "metadata": {
    "pycharm": {
     "name": "#%% md\n"
    }
   },
   "source": [
    "Definition of the deterministic rule for target in this IR example\n",
    "\n",
    "| Condition | Relevance Score |\n",
    "| --- | --- |\n",
    "| no citation | 0 |\n",
    "| inventor citation | 1 |\n",
    "| examiner citation | 2 |\n",
    "| family citation | 3 |"
   ]
  },
  {
   "cell_type": "code",
   "execution_count": 11,
   "metadata": {
    "pycharm": {
     "name": "#%%\n"
    }
   },
   "outputs": [],
   "source": [
    "# Encode the rule in dictionary structure for plotting function so that we can\n",
    "# plot GAM against decision function\n",
    "decision_function = {0: \"None\",\n",
    "                    1: \"cited_inventor\",\n",
    "                    2: \"cited_examiner\",\n",
    "                    3: \"cited_family\"}\n"
   ]
  },
  {
   "cell_type": "markdown",
   "metadata": {
    "pycharm": {
     "name": "#%% md\n"
    }
   },
   "source": [
    "Plot GAM $\\mu_{c*}$ for identified circular feature set $c*$ reconstructing target labeling function:\n",
    "\n",
    "It is clear that the GAM can perfectly reconstruct the target function given the features that define the function and the fit is (too) perfect."
   ]
  },
  {
   "cell_type": "code",
   "execution_count": 12,
   "metadata": {
    "pycharm": {
     "name": "#%%\n"
    }
   },
   "outputs": [
    {
     "data": {
      "image/png": "[encoded data removed]",
      "text/plain": [
       "<Figure size 432x288 with 1 Axes>"
      ]
     },
     "metadata": {
      "needs_background": "light"
     },
     "output_type": "display_data"
    }
   ],
   "source": [
    "gam = circularity_candidate[1]\n",
    "title = f\"GAM with circular features, D²: {round(score(gam, data[circular_features].to_numpy(), data[target].to_numpy())*100)}\"\n",
    "plot_gam_terms(config, gam, circular_features, decision_funct=decision_function, title=title)"
   ]
  },
  {
   "cell_type": "markdown",
   "metadata": {
    "pycharm": {
     "name": "#%% md\n"
    }
   },
   "source": [
    "Plot GAM on full feature set: Nicely visible is the **Nullification** of the features that do not define the target labeling function."
   ]
  },
  {
   "cell_type": "code",
   "execution_count": 13,
   "metadata": {
    "pycharm": {
     "name": "#%%\n"
    }
   },
   "outputs": [
    {
     "data": {
      "image/png": "[encoded data removed]",
      "text/plain": [
       "<Figure size 432x288 with 3 Axes>"
      ]
     },
     "metadata": {
      "needs_background": "light"
     },
     "output_type": "display_data"
    }
   ],
   "source": [
    "title = f\"GAM with all features, D²: {round(score(full_gam, data[features].to_numpy(), data[target].to_numpy())*100)}\"\n",
    "plot_gam_terms(config, full_gam, features, title=title)"
   ]
  },
  {
   "cell_type": "markdown",
   "metadata": {
    "pycharm": {
     "name": "#%% md\n"
    }
   },
   "source": [
    "Plot GAM on non-circular features for comparison: If circular features are not given, the other features have a reasonable impact on the prediction.\n",
    "But the fit of the model is not optimal. "
   ]
  },
  {
   "cell_type": "code",
   "execution_count": 14,
   "metadata": {
    "pycharm": {
     "name": "#%%\n"
    }
   },
   "outputs": [
    {
     "data": {
      "image/png": "[encoded data removed]",
      "text/plain": [
       "<Figure size 432x288 with 2 Axes>"
      ]
     },
     "metadata": {
      "needs_background": "light"
     },
     "output_type": "display_data"
    }
   ],
   "source": [
    "non_circular_gam = [gam[1] for gam in sorted_result_gams if gam[0] == nullified_features][0]\n",
    "title = f\"GAM without circular features, D²: {round(score(non_circular_gam, data[nullified_features].to_numpy(), data[target].to_numpy())*100)}\"\n",
    "\n",
    "plot_gam_terms(config, non_circular_gam, nullified_features, title=title)\n"
   ]
  }
 ],
 "metadata": {
  "kernelspec": {
   "display_name": "Python 3",
   "language": "python",
   "name": "python3"
  },
  "language_info": {
   "codemirror_mode": {
    "name": "ipython",
    "version": 3
   },
   "file_extension": ".py",
   "mimetype": "text/x-python",
   "name": "python",
   "nbconvert_exporter": "python",
   "pygments_lexer": "ipython3",
   "version": "3.8.2"
  },
  "pycharm": {
   "stem_cell": {
    "cell_type": "raw",
    "metadata": {
     "collapsed": false
    },
    "source": []
   }
  }
 },
 "nbformat": 4,
 "nbformat_minor": 1
}
