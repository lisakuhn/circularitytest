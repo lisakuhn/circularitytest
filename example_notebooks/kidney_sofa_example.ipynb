{
 "cells": [
  {
   "cell_type": "markdown",
   "metadata": {
    "collapsed": true
   },
   "source": [
    "## Sepsis Prediction with SOFA score - Kidney Example - Circularity in Machine Learning Annotation\n"
   ]
  },
  {
   "cell_type": "markdown",
   "metadata": {},
   "source": [
    "In this notebook the circularity test from chapter 2.4.3 of \"Validity, Reliability, and Significance: Empirical Methods for NLP and Data Science\n",
    "\" (Riezler&Hagmann, 2021), for the kidney sofa example is executed and visualized step-by-step, just as circularitytest would handle it internally."
   ]
  },
  {
   "cell_type": "markdown",
   "metadata": {},
   "source": [
    "\n",
    "**Definition Circularity Test (2.6)**: \\\n",
    "Given a dataset of feature-label relations $D = \\{(x^{n}, y^{n})\\}^{N}_{n=1}$ where $x^{n} = (x_1, x_2, . . . , x_p)$ is a $p$-dimensional feature vector, let $C \\subseteq P(\\{1, . . . , p\\})$ indicate the set of candidate circular features in dataset $D$, and let $M := \\{\\mu_c : c \\in C\\}$ be the set of models obtained by fitting a GAM based on feature set $c$ to the data $D$. A set of circular features $c∗$ is detected by applying the following two-step test:\n",
    "1. $c∗ = argmax_{c\\subseteq C} D^2(\\mu_c)$ where $D^2\n",
    "(\\mu_{c∗} )$ is close to 1, and in case\n",
    "the maximizer is not unique, the maximizer is chosen whose\n",
    "associated GAM $\\mu_{c∗}$ has the smallest degrees of freedom.\n",
    "2. The feature shapes of any other features added to the GAM\n",
    "$\\mu_{c∗}$ are nullified in the model $\\mu\\{1,...,p\\}$ that is based on the full\n",
    "feature set."
   ]
  },
  {
   "cell_type": "code",
   "execution_count": 1,
   "metadata": {},
   "outputs": [],
   "source": [
    "# Imports\n",
    "from circularitytest.gam import construct_powerset, construct_gam_term, build_gam, check_nullification, score\n",
    "from circularitytest.utils import load_r_data, preprocess_replace_data\n",
    "from circularitytest.plot import plot_gam_terms\n",
    "from tqdm import tqdm\n",
    "import pandas as pd\n",
    "pd.set_option('display.max_colwidth', 100)\n",
    "pd.set_option('display.max_rows', 100)\n"
   ]
  },
  {
   "cell_type": "markdown",
   "metadata": {},
   "source": [
    "Features, Target for sepsis prediction with kidney sofa score"
   ]
  },
  {
   "cell_type": "code",
   "execution_count": 2,
   "metadata": {},
   "outputs": [],
   "source": [
    "# Feature definitions\n",
    "features = sorted([\"crea\", \"urine24\", \"artph\", \"bun\", \"temp\", \"lactate\"])\n",
    "target = \"target\"\n"
   ]
  },
  {
   "cell_type": "markdown",
   "metadata": {},
   "source": [
    "Construct all possible feature sets $c$ from the features "
   ]
  },
  {
   "cell_type": "code",
   "execution_count": 3,
   "metadata": {},
   "outputs": [
    {
     "data": {
      "text/plain": [
       "[['artph'],\n",
       " ['bun'],\n",
       " ['crea'],\n",
       " ['lactate'],\n",
       " ['temp'],\n",
       " ['urine24'],\n",
       " ['artph', 'bun'],\n",
       " ['artph', 'crea'],\n",
       " ['artph', 'lactate'],\n",
       " ['artph', 'temp'],\n",
       " ['artph', 'urine24'],\n",
       " ['bun', 'crea'],\n",
       " ['bun', 'lactate'],\n",
       " ['bun', 'temp'],\n",
       " ['bun', 'urine24'],\n",
       " ['crea', 'lactate'],\n",
       " ['crea', 'temp'],\n",
       " ['crea', 'urine24'],\n",
       " ['lactate', 'temp'],\n",
       " ['lactate', 'urine24'],\n",
       " ['temp', 'urine24'],\n",
       " ['artph', 'bun', 'crea'],\n",
       " ['artph', 'bun', 'lactate'],\n",
       " ['artph', 'bun', 'temp'],\n",
       " ['artph', 'bun', 'urine24'],\n",
       " ['artph', 'crea', 'lactate'],\n",
       " ['artph', 'crea', 'temp'],\n",
       " ['artph', 'crea', 'urine24'],\n",
       " ['artph', 'lactate', 'temp'],\n",
       " ['artph', 'lactate', 'urine24'],\n",
       " ['artph', 'temp', 'urine24'],\n",
       " ['bun', 'crea', 'lactate'],\n",
       " ['bun', 'crea', 'temp'],\n",
       " ['bun', 'crea', 'urine24'],\n",
       " ['bun', 'lactate', 'temp'],\n",
       " ['bun', 'lactate', 'urine24'],\n",
       " ['bun', 'temp', 'urine24'],\n",
       " ['crea', 'lactate', 'temp'],\n",
       " ['crea', 'lactate', 'urine24'],\n",
       " ['crea', 'temp', 'urine24'],\n",
       " ['lactate', 'temp', 'urine24'],\n",
       " ['artph', 'bun', 'crea', 'lactate'],\n",
       " ['artph', 'bun', 'crea', 'temp'],\n",
       " ['artph', 'bun', 'crea', 'urine24'],\n",
       " ['artph', 'bun', 'lactate', 'temp'],\n",
       " ['artph', 'bun', 'lactate', 'urine24'],\n",
       " ['artph', 'bun', 'temp', 'urine24'],\n",
       " ['artph', 'crea', 'lactate', 'temp'],\n",
       " ['artph', 'crea', 'lactate', 'urine24'],\n",
       " ['artph', 'crea', 'temp', 'urine24'],\n",
       " ['artph', 'lactate', 'temp', 'urine24'],\n",
       " ['bun', 'crea', 'lactate', 'temp'],\n",
       " ['bun', 'crea', 'lactate', 'urine24'],\n",
       " ['bun', 'crea', 'temp', 'urine24'],\n",
       " ['bun', 'lactate', 'temp', 'urine24'],\n",
       " ['crea', 'lactate', 'temp', 'urine24'],\n",
       " ['artph', 'bun', 'crea', 'lactate', 'temp'],\n",
       " ['artph', 'bun', 'crea', 'lactate', 'urine24'],\n",
       " ['artph', 'bun', 'crea', 'temp', 'urine24'],\n",
       " ['artph', 'bun', 'lactate', 'temp', 'urine24'],\n",
       " ['artph', 'crea', 'lactate', 'temp', 'urine24'],\n",
       " ['bun', 'crea', 'lactate', 'temp', 'urine24'],\n",
       " ['artph', 'bun', 'crea', 'lactate', 'temp', 'urine24']]"
      ]
     },
     "execution_count": 3,
     "metadata": {},
     "output_type": "execute_result"
    }
   ],
   "source": [
    "# Obtain feature combinations\n",
    "feature_combinations = construct_powerset(features)\n",
    "feature_combinations"
   ]
  },
  {
   "cell_type": "code",
   "execution_count": 4,
   "metadata": {
    "pycharm": {
     "name": "#%%\n"
    }
   },
   "outputs": [],
   "source": [
    "# Data loading: this is usually handled inside circularitytest\n",
    "data = load_r_data(\"../data/kidney_sofa_example/kidney_dataset-training_nostd.rds\")"
   ]
  },
  {
   "cell_type": "markdown",
   "metadata": {},
   "source": [
    "Fit GAMs on all feature sets \n",
    "and calculate the $D^2$ and effective degrees of freedom for each GAM"
   ]
  },
  {
   "cell_type": "code",
   "execution_count": 5,
   "metadata": {
    "pycharm": {
     "name": "#%%\n"
    }
   },
   "outputs": [
    {
     "name": "stderr",
     "output_type": "stream",
     "text": [
      "Fitting GAMs on Powerset: 100%|██████████| 63/63 [08:27<00:00,  8.05s/it]\n"
     ]
    }
   ],
   "source": [
    "#Fit GAMs for powerset and calculate Deviance explained as well as degrees of freedom\n",
    "gam_results = []\n",
    "\n",
    "\n",
    "for feature_combination in tqdm(feature_combinations, desc=\"Fitting GAMs on Powerset\"):\n",
    "    \n",
    " \n",
    "    term_list = construct_gam_term({}, feature_combination)\n",
    "    gam = build_gam(term_list)\n",
    "\n",
    "    X, y = data[feature_combination].to_numpy(), data[target].to_numpy()\n",
    "\n",
    "    gam.fit(X,y)\n",
    "\n",
    "    result = (feature_combination, gam, round(score(gam, X, y) * 100), gam.statistics_[\"edof\"])\n",
    "\n",
    "    gam_results.append(result)\n"
   ]
  },
  {
   "cell_type": "markdown",
   "metadata": {},
   "source": [
    "Sort GAMs according to $D^2$ and effective degrees of freedom"
   ]
  },
  {
   "cell_type": "code",
   "execution_count": 6,
   "metadata": {
    "pycharm": {
     "name": "#%%\n"
    }
   },
   "outputs": [
    {
     "data": {
      "text/html": [
       "<div>\n",
       "<style scoped>\n",
       "    .dataframe tbody tr th:only-of-type {\n",
       "        vertical-align: middle;\n",
       "    }\n",
       "\n",
       "    .dataframe tbody tr th {\n",
       "        vertical-align: top;\n",
       "    }\n",
       "\n",
       "    .dataframe thead th {\n",
       "        text-align: right;\n",
       "    }\n",
       "</style>\n",
       "<table border=\"1\" class=\"dataframe\">\n",
       "  <thead>\n",
       "    <tr style=\"text-align: right;\">\n",
       "      <th></th>\n",
       "      <th>Features</th>\n",
       "      <th>Deviance Explained</th>\n",
       "      <th>Effective Degrees of Freedom</th>\n",
       "    </tr>\n",
       "  </thead>\n",
       "  <tbody>\n",
       "    <tr>\n",
       "      <th>0</th>\n",
       "      <td>[crea, urine24]</td>\n",
       "      <td>91</td>\n",
       "      <td>15.675604</td>\n",
       "    </tr>\n",
       "    <tr>\n",
       "      <th>1</th>\n",
       "      <td>[artph, crea, urine24]</td>\n",
       "      <td>91</td>\n",
       "      <td>21.430472</td>\n",
       "    </tr>\n",
       "    <tr>\n",
       "      <th>2</th>\n",
       "      <td>[crea, temp, urine24]</td>\n",
       "      <td>91</td>\n",
       "      <td>21.879189</td>\n",
       "    </tr>\n",
       "    <tr>\n",
       "      <th>3</th>\n",
       "      <td>[crea, lactate, urine24]</td>\n",
       "      <td>91</td>\n",
       "      <td>22.303379</td>\n",
       "    </tr>\n",
       "    <tr>\n",
       "      <th>4</th>\n",
       "      <td>[bun, crea, urine24]</td>\n",
       "      <td>91</td>\n",
       "      <td>22.910877</td>\n",
       "    </tr>\n",
       "    <tr>\n",
       "      <th>5</th>\n",
       "      <td>[artph, crea, temp, urine24]</td>\n",
       "      <td>91</td>\n",
       "      <td>27.633939</td>\n",
       "    </tr>\n",
       "    <tr>\n",
       "      <th>6</th>\n",
       "      <td>[artph, crea, lactate, urine24]</td>\n",
       "      <td>91</td>\n",
       "      <td>28.055012</td>\n",
       "    </tr>\n",
       "    <tr>\n",
       "      <th>7</th>\n",
       "      <td>[crea, lactate, temp, urine24]</td>\n",
       "      <td>91</td>\n",
       "      <td>28.505879</td>\n",
       "    </tr>\n",
       "    <tr>\n",
       "      <th>8</th>\n",
       "      <td>[artph, bun, crea, urine24]</td>\n",
       "      <td>91</td>\n",
       "      <td>28.665458</td>\n",
       "    </tr>\n",
       "    <tr>\n",
       "      <th>9</th>\n",
       "      <td>[bun, crea, temp, urine24]</td>\n",
       "      <td>91</td>\n",
       "      <td>29.114067</td>\n",
       "    </tr>\n",
       "    <tr>\n",
       "      <th>10</th>\n",
       "      <td>[bun, crea, lactate, urine24]</td>\n",
       "      <td>91</td>\n",
       "      <td>29.537386</td>\n",
       "    </tr>\n",
       "    <tr>\n",
       "      <th>11</th>\n",
       "      <td>[artph, crea, lactate, temp, urine24]</td>\n",
       "      <td>91</td>\n",
       "      <td>34.257397</td>\n",
       "    </tr>\n",
       "    <tr>\n",
       "      <th>12</th>\n",
       "      <td>[artph, bun, crea, temp, urine24]</td>\n",
       "      <td>91</td>\n",
       "      <td>34.868532</td>\n",
       "    </tr>\n",
       "    <tr>\n",
       "      <th>13</th>\n",
       "      <td>[artph, bun, crea, lactate, urine24]</td>\n",
       "      <td>91</td>\n",
       "      <td>35.288587</td>\n",
       "    </tr>\n",
       "    <tr>\n",
       "      <th>14</th>\n",
       "      <td>[bun, crea, lactate, temp, urine24]</td>\n",
       "      <td>91</td>\n",
       "      <td>35.739600</td>\n",
       "    </tr>\n",
       "    <tr>\n",
       "      <th>15</th>\n",
       "      <td>[artph, bun, crea, lactate, temp, urine24]</td>\n",
       "      <td>91</td>\n",
       "      <td>41.490680</td>\n",
       "    </tr>\n",
       "    <tr>\n",
       "      <th>16</th>\n",
       "      <td>[bun, urine24]</td>\n",
       "      <td>84</td>\n",
       "      <td>16.064841</td>\n",
       "    </tr>\n",
       "    <tr>\n",
       "      <th>17</th>\n",
       "      <td>[artph, bun, urine24]</td>\n",
       "      <td>84</td>\n",
       "      <td>21.819827</td>\n",
       "    </tr>\n",
       "    <tr>\n",
       "      <th>18</th>\n",
       "      <td>[bun, temp, urine24]</td>\n",
       "      <td>84</td>\n",
       "      <td>22.268182</td>\n",
       "    </tr>\n",
       "    <tr>\n",
       "      <th>19</th>\n",
       "      <td>[bun, lactate, urine24]</td>\n",
       "      <td>84</td>\n",
       "      <td>22.691915</td>\n",
       "    </tr>\n",
       "    <tr>\n",
       "      <th>20</th>\n",
       "      <td>[artph, bun, temp, urine24]</td>\n",
       "      <td>84</td>\n",
       "      <td>28.023047</td>\n",
       "    </tr>\n",
       "    <tr>\n",
       "      <th>21</th>\n",
       "      <td>[artph, bun, lactate, urine24]</td>\n",
       "      <td>84</td>\n",
       "      <td>28.443480</td>\n",
       "    </tr>\n",
       "    <tr>\n",
       "      <th>22</th>\n",
       "      <td>[bun, lactate, temp, urine24]</td>\n",
       "      <td>84</td>\n",
       "      <td>28.894279</td>\n",
       "    </tr>\n",
       "    <tr>\n",
       "      <th>23</th>\n",
       "      <td>[artph, bun, lactate, temp, urine24]</td>\n",
       "      <td>84</td>\n",
       "      <td>34.645721</td>\n",
       "    </tr>\n",
       "    <tr>\n",
       "      <th>24</th>\n",
       "      <td>[artph, lactate, urine24]</td>\n",
       "      <td>79</td>\n",
       "      <td>21.207739</td>\n",
       "    </tr>\n",
       "    <tr>\n",
       "      <th>25</th>\n",
       "      <td>[artph, lactate, temp, urine24]</td>\n",
       "      <td>79</td>\n",
       "      <td>27.410272</td>\n",
       "    </tr>\n",
       "    <tr>\n",
       "      <th>26</th>\n",
       "      <td>[urine24]</td>\n",
       "      <td>78</td>\n",
       "      <td>8.827679</td>\n",
       "    </tr>\n",
       "    <tr>\n",
       "      <th>27</th>\n",
       "      <td>[artph, urine24]</td>\n",
       "      <td>78</td>\n",
       "      <td>14.583013</td>\n",
       "    </tr>\n",
       "    <tr>\n",
       "      <th>28</th>\n",
       "      <td>[temp, urine24]</td>\n",
       "      <td>78</td>\n",
       "      <td>15.031412</td>\n",
       "    </tr>\n",
       "    <tr>\n",
       "      <th>29</th>\n",
       "      <td>[lactate, urine24]</td>\n",
       "      <td>78</td>\n",
       "      <td>15.455646</td>\n",
       "    </tr>\n",
       "    <tr>\n",
       "      <th>30</th>\n",
       "      <td>[artph, temp, urine24]</td>\n",
       "      <td>78</td>\n",
       "      <td>20.786623</td>\n",
       "    </tr>\n",
       "    <tr>\n",
       "      <th>31</th>\n",
       "      <td>[lactate, temp, urine24]</td>\n",
       "      <td>78</td>\n",
       "      <td>21.658310</td>\n",
       "    </tr>\n",
       "    <tr>\n",
       "      <th>32</th>\n",
       "      <td>[artph, bun, crea, lactate, temp]</td>\n",
       "      <td>47</td>\n",
       "      <td>33.665804</td>\n",
       "    </tr>\n",
       "    <tr>\n",
       "      <th>33</th>\n",
       "      <td>[artph, crea, lactate, temp]</td>\n",
       "      <td>46</td>\n",
       "      <td>26.430918</td>\n",
       "    </tr>\n",
       "    <tr>\n",
       "      <th>34</th>\n",
       "      <td>[artph, bun, crea, temp]</td>\n",
       "      <td>45</td>\n",
       "      <td>27.043438</td>\n",
       "    </tr>\n",
       "    <tr>\n",
       "      <th>35</th>\n",
       "      <td>[artph, bun, crea, lactate]</td>\n",
       "      <td>45</td>\n",
       "      <td>27.463336</td>\n",
       "    </tr>\n",
       "    <tr>\n",
       "      <th>36</th>\n",
       "      <td>[bun, crea, lactate, temp]</td>\n",
       "      <td>45</td>\n",
       "      <td>27.914519</td>\n",
       "    </tr>\n",
       "    <tr>\n",
       "      <th>37</th>\n",
       "      <td>[artph, crea, temp]</td>\n",
       "      <td>44</td>\n",
       "      <td>19.807153</td>\n",
       "    </tr>\n",
       "    <tr>\n",
       "      <th>38</th>\n",
       "      <td>[crea, lactate, temp]</td>\n",
       "      <td>44</td>\n",
       "      <td>20.679197</td>\n",
       "    </tr>\n",
       "    <tr>\n",
       "      <th>39</th>\n",
       "      <td>[bun, crea, temp]</td>\n",
       "      <td>43</td>\n",
       "      <td>21.288753</td>\n",
       "    </tr>\n",
       "    <tr>\n",
       "      <th>40</th>\n",
       "      <td>[bun, crea, lactate]</td>\n",
       "      <td>43</td>\n",
       "      <td>21.711939</td>\n",
       "    </tr>\n",
       "    <tr>\n",
       "      <th>41</th>\n",
       "      <td>[crea, temp]</td>\n",
       "      <td>42</td>\n",
       "      <td>14.052199</td>\n",
       "    </tr>\n",
       "    <tr>\n",
       "      <th>42</th>\n",
       "      <td>[artph, crea, lactate]</td>\n",
       "      <td>42</td>\n",
       "      <td>20.228194</td>\n",
       "    </tr>\n",
       "    <tr>\n",
       "      <th>43</th>\n",
       "      <td>[artph, bun, crea]</td>\n",
       "      <td>42</td>\n",
       "      <td>20.839957</td>\n",
       "    </tr>\n",
       "    <tr>\n",
       "      <th>44</th>\n",
       "      <td>[crea, lactate]</td>\n",
       "      <td>41</td>\n",
       "      <td>14.476371</td>\n",
       "    </tr>\n",
       "    <tr>\n",
       "      <th>45</th>\n",
       "      <td>[artph, crea]</td>\n",
       "      <td>40</td>\n",
       "      <td>13.603272</td>\n",
       "    </tr>\n",
       "    <tr>\n",
       "      <th>46</th>\n",
       "      <td>[bun, crea]</td>\n",
       "      <td>39</td>\n",
       "      <td>15.085143</td>\n",
       "    </tr>\n",
       "    <tr>\n",
       "      <th>47</th>\n",
       "      <td>[crea]</td>\n",
       "      <td>37</td>\n",
       "      <td>7.848190</td>\n",
       "    </tr>\n",
       "    <tr>\n",
       "      <th>48</th>\n",
       "      <td>[artph, bun, lactate, temp]</td>\n",
       "      <td>26</td>\n",
       "      <td>26.820592</td>\n",
       "    </tr>\n",
       "    <tr>\n",
       "      <th>49</th>\n",
       "      <td>[artph, bun, temp]</td>\n",
       "      <td>23</td>\n",
       "      <td>20.197689</td>\n",
       "    </tr>\n",
       "    <tr>\n",
       "      <th>50</th>\n",
       "      <td>[bun, lactate, temp]</td>\n",
       "      <td>22</td>\n",
       "      <td>21.068970</td>\n",
       "    </tr>\n",
       "    <tr>\n",
       "      <th>51</th>\n",
       "      <td>[artph, lactate, temp]</td>\n",
       "      <td>20</td>\n",
       "      <td>19.583635</td>\n",
       "    </tr>\n",
       "    <tr>\n",
       "      <th>52</th>\n",
       "      <td>[artph, bun, lactate]</td>\n",
       "      <td>20</td>\n",
       "      <td>20.617968</td>\n",
       "    </tr>\n",
       "    <tr>\n",
       "      <th>53</th>\n",
       "      <td>[bun, temp]</td>\n",
       "      <td>18</td>\n",
       "      <td>14.442568</td>\n",
       "    </tr>\n",
       "    <tr>\n",
       "      <th>54</th>\n",
       "      <td>[artph, temp]</td>\n",
       "      <td>17</td>\n",
       "      <td>12.959677</td>\n",
       "    </tr>\n",
       "    <tr>\n",
       "      <th>55</th>\n",
       "      <td>[artph, lactate]</td>\n",
       "      <td>16</td>\n",
       "      <td>13.380711</td>\n",
       "    </tr>\n",
       "    <tr>\n",
       "      <th>56</th>\n",
       "      <td>[artph, bun]</td>\n",
       "      <td>16</td>\n",
       "      <td>13.994044</td>\n",
       "    </tr>\n",
       "    <tr>\n",
       "      <th>57</th>\n",
       "      <td>[bun, lactate]</td>\n",
       "      <td>15</td>\n",
       "      <td>14.866241</td>\n",
       "    </tr>\n",
       "    <tr>\n",
       "      <th>58</th>\n",
       "      <td>[lactate, temp]</td>\n",
       "      <td>13</td>\n",
       "      <td>13.831427</td>\n",
       "    </tr>\n",
       "    <tr>\n",
       "      <th>59</th>\n",
       "      <td>[artph]</td>\n",
       "      <td>11</td>\n",
       "      <td>6.755617</td>\n",
       "    </tr>\n",
       "    <tr>\n",
       "      <th>60</th>\n",
       "      <td>[bun]</td>\n",
       "      <td>9</td>\n",
       "      <td>8.238775</td>\n",
       "    </tr>\n",
       "    <tr>\n",
       "      <th>61</th>\n",
       "      <td>[temp]</td>\n",
       "      <td>8</td>\n",
       "      <td>7.204208</td>\n",
       "    </tr>\n",
       "    <tr>\n",
       "      <th>62</th>\n",
       "      <td>[lactate]</td>\n",
       "      <td>8</td>\n",
       "      <td>7.628370</td>\n",
       "    </tr>\n",
       "  </tbody>\n",
       "</table>\n",
       "</div>"
      ],
      "text/plain": [
       "                                      Features  Deviance Explained  \\\n",
       "0                              [crea, urine24]                  91   \n",
       "1                       [artph, crea, urine24]                  91   \n",
       "2                        [crea, temp, urine24]                  91   \n",
       "3                     [crea, lactate, urine24]                  91   \n",
       "4                         [bun, crea, urine24]                  91   \n",
       "5                 [artph, crea, temp, urine24]                  91   \n",
       "6              [artph, crea, lactate, urine24]                  91   \n",
       "7               [crea, lactate, temp, urine24]                  91   \n",
       "8                  [artph, bun, crea, urine24]                  91   \n",
       "9                   [bun, crea, temp, urine24]                  91   \n",
       "10               [bun, crea, lactate, urine24]                  91   \n",
       "11       [artph, crea, lactate, temp, urine24]                  91   \n",
       "12           [artph, bun, crea, temp, urine24]                  91   \n",
       "13        [artph, bun, crea, lactate, urine24]                  91   \n",
       "14         [bun, crea, lactate, temp, urine24]                  91   \n",
       "15  [artph, bun, crea, lactate, temp, urine24]                  91   \n",
       "16                              [bun, urine24]                  84   \n",
       "17                       [artph, bun, urine24]                  84   \n",
       "18                        [bun, temp, urine24]                  84   \n",
       "19                     [bun, lactate, urine24]                  84   \n",
       "20                 [artph, bun, temp, urine24]                  84   \n",
       "21              [artph, bun, lactate, urine24]                  84   \n",
       "22               [bun, lactate, temp, urine24]                  84   \n",
       "23        [artph, bun, lactate, temp, urine24]                  84   \n",
       "24                   [artph, lactate, urine24]                  79   \n",
       "25             [artph, lactate, temp, urine24]                  79   \n",
       "26                                   [urine24]                  78   \n",
       "27                            [artph, urine24]                  78   \n",
       "28                             [temp, urine24]                  78   \n",
       "29                          [lactate, urine24]                  78   \n",
       "30                      [artph, temp, urine24]                  78   \n",
       "31                    [lactate, temp, urine24]                  78   \n",
       "32           [artph, bun, crea, lactate, temp]                  47   \n",
       "33                [artph, crea, lactate, temp]                  46   \n",
       "34                    [artph, bun, crea, temp]                  45   \n",
       "35                 [artph, bun, crea, lactate]                  45   \n",
       "36                  [bun, crea, lactate, temp]                  45   \n",
       "37                         [artph, crea, temp]                  44   \n",
       "38                       [crea, lactate, temp]                  44   \n",
       "39                           [bun, crea, temp]                  43   \n",
       "40                        [bun, crea, lactate]                  43   \n",
       "41                                [crea, temp]                  42   \n",
       "42                      [artph, crea, lactate]                  42   \n",
       "43                          [artph, bun, crea]                  42   \n",
       "44                             [crea, lactate]                  41   \n",
       "45                               [artph, crea]                  40   \n",
       "46                                 [bun, crea]                  39   \n",
       "47                                      [crea]                  37   \n",
       "48                 [artph, bun, lactate, temp]                  26   \n",
       "49                          [artph, bun, temp]                  23   \n",
       "50                        [bun, lactate, temp]                  22   \n",
       "51                      [artph, lactate, temp]                  20   \n",
       "52                       [artph, bun, lactate]                  20   \n",
       "53                                 [bun, temp]                  18   \n",
       "54                               [artph, temp]                  17   \n",
       "55                            [artph, lactate]                  16   \n",
       "56                                [artph, bun]                  16   \n",
       "57                              [bun, lactate]                  15   \n",
       "58                             [lactate, temp]                  13   \n",
       "59                                     [artph]                  11   \n",
       "60                                       [bun]                   9   \n",
       "61                                      [temp]                   8   \n",
       "62                                   [lactate]                   8   \n",
       "\n",
       "    Effective Degrees of Freedom  \n",
       "0                      15.675604  \n",
       "1                      21.430472  \n",
       "2                      21.879189  \n",
       "3                      22.303379  \n",
       "4                      22.910877  \n",
       "5                      27.633939  \n",
       "6                      28.055012  \n",
       "7                      28.505879  \n",
       "8                      28.665458  \n",
       "9                      29.114067  \n",
       "10                     29.537386  \n",
       "11                     34.257397  \n",
       "12                     34.868532  \n",
       "13                     35.288587  \n",
       "14                     35.739600  \n",
       "15                     41.490680  \n",
       "16                     16.064841  \n",
       "17                     21.819827  \n",
       "18                     22.268182  \n",
       "19                     22.691915  \n",
       "20                     28.023047  \n",
       "21                     28.443480  \n",
       "22                     28.894279  \n",
       "23                     34.645721  \n",
       "24                     21.207739  \n",
       "25                     27.410272  \n",
       "26                      8.827679  \n",
       "27                     14.583013  \n",
       "28                     15.031412  \n",
       "29                     15.455646  \n",
       "30                     20.786623  \n",
       "31                     21.658310  \n",
       "32                     33.665804  \n",
       "33                     26.430918  \n",
       "34                     27.043438  \n",
       "35                     27.463336  \n",
       "36                     27.914519  \n",
       "37                     19.807153  \n",
       "38                     20.679197  \n",
       "39                     21.288753  \n",
       "40                     21.711939  \n",
       "41                     14.052199  \n",
       "42                     20.228194  \n",
       "43                     20.839957  \n",
       "44                     14.476371  \n",
       "45                     13.603272  \n",
       "46                     15.085143  \n",
       "47                      7.848190  \n",
       "48                     26.820592  \n",
       "49                     20.197689  \n",
       "50                     21.068970  \n",
       "51                     19.583635  \n",
       "52                     20.617968  \n",
       "53                     14.442568  \n",
       "54                     12.959677  \n",
       "55                     13.380711  \n",
       "56                     13.994044  \n",
       "57                     14.866241  \n",
       "58                     13.831427  \n",
       "59                      6.755617  \n",
       "60                      8.238775  \n",
       "61                      7.204208  \n",
       "62                      7.628370  "
      ]
     },
     "execution_count": 6,
     "metadata": {},
     "output_type": "execute_result"
    }
   ],
   "source": [
    "sorted_result_gams = sorted(gam_results, key=lambda x: (x[2], -x[3]), reverse=True)\n",
    "\n",
    "df = pd.DataFrame(sorted_result_gams, columns =['Features', 'GAM', 'Deviance Explained', \"Effective Degrees of Freedom\"]).drop('GAM', 1)\n",
    "df\n"
   ]
  },
  {
   "cell_type": "markdown",
   "metadata": {},
   "source": [
    "Check for step 1 of Circularity Test: \\\n",
    "    - Extract features $c*$ where GAM $\\mu_{c*}$ has highest $D^2$ and check that $D^2(\\mu_{c*})$ is close to 1 \\\n",
    "    - Check that it has the smallest degree of freedom among GAMs with same $D^2$ (not strictly necessary in this instance due to sorting function)"
   ]
  },
  {
   "cell_type": "code",
   "execution_count": 7,
   "metadata": {
    "pycharm": {
     "name": "#%%\n"
    }
   },
   "outputs": [],
   "source": [
    "#check that top gam is close to 1\n",
    "circularity_candidate = sorted_result_gams[0]\n",
    "\n",
    "assert circularity_candidate[2] > 90, \"No GAM has a good fit for the data\"\n",
    "assert all(i > circularity_candidate[3] for i in [elem[3] for elem in sorted_result_gams if elem[0] != circularity_candidate[0]\n",
    "                                                     and circularity_candidate[2] == elem[2]]),\\\n",
    "                \"Best GAM does not have the smallest degrees of freedom\""
   ]
  },
  {
   "cell_type": "markdown",
   "metadata": {},
   "source": [
    "Check for step 2 of Circularity Test: **Nullification** \\\n",
    "Take GAM fitted on full feature set and check that all features that are not in $c*$ are nullified: feature shapes are constant (zero) function. I used the standard deviation as a measure for nullification. \n",
    "\n",
    "\n",
    "-> feature shapes are visualized as further proof under following section Visualizations"
   ]
  },
  {
   "cell_type": "code",
   "execution_count": 8,
   "metadata": {},
   "outputs": [
    {
     "data": {
      "text/plain": [
       "['artph', 'bun', 'lactate', 'temp']"
      ]
     },
     "execution_count": 8,
     "metadata": {},
     "output_type": "execute_result"
    }
   ],
   "source": [
    "# If we have a circularity candidate: check for nullification in GAM with all features\n",
    "full_gam = [gam[1] for gam in sorted_result_gams if gam[0] == features][0]\n",
    "\n",
    "nullified_features = check_nullification(full_gam, features, threshold=0.21)\n",
    "nullified_features\n"
   ]
  },
  {
   "cell_type": "code",
   "execution_count": 9,
   "metadata": {
    "pycharm": {
     "name": "#%%\n"
    }
   },
   "outputs": [
    {
     "name": "stdout",
     "output_type": "stream",
     "text": [
      "Circular features found: crea, urine24\n"
     ]
    }
   ],
   "source": [
    "# Check that nullified features are not in circularity candidate feature set c*\n",
    "if nullified_features == sorted(list(set(features)-set(circularity_candidate[0]))):\n",
    "    circular_features = circularity_candidate[0]\n",
    "    print(f\"Circular features found: {', '.join(circular_features)}\")\n",
    "\n",
    "else:\n",
    "    print(\"No circular features were found.\")"
   ]
  },
  {
   "cell_type": "markdown",
   "metadata": {},
   "source": [
    "After applying the Circularity Test we can conclude that the feature creatinine(crea) and urine 24 are circular features: \\\n",
    "    - The GAM trained on the crea and urine 24 feature only achieves optimal fit to data with the smallest degrees of freedom. \\\n",
    "    - All other features are nullified in the presence of the crea, urine24 feature.  \\\n",
    "Visualizations are below for further clarification. "
   ]
  },
  {
   "cell_type": "markdown",
   "metadata": {},
   "source": [
    "### Visualizations"
   ]
  },
  {
   "cell_type": "code",
   "execution_count": 10,
   "metadata": {
    "pycharm": {
     "name": "#%%\n"
    }
   },
   "outputs": [],
   "source": [
    "#Plotting definitions for nice presentation: x and y limits, increased number of splines\n",
    "\n",
    "config = {\"ylim\": (-1.3, 4.3),\n",
    "         \"urine24\": {\n",
    "             \"xlim\": (0,1000),\n",
    "             \"n\": 1000,\n",
    "             \"n_splines\": 150\n",
    "         },\n",
    "         \"crea\": {\n",
    "             \"xlim\": (0.15, 5.2),\n",
    "             \"n_splines\": 125\n",
    "         },\n",
    "         \"artph\":{\n",
    "             \"xlim\": (7.1, 7.6)\n",
    "         },\n",
    "         \"bun\":{\n",
    "             \"xlim\": (0, 200)\n",
    "         },\n",
    "          \"temp\": {\n",
    "              \"xlim\": (34, 40)\n",
    "          },\n",
    "          \"lactate\": {\n",
    "              \"xlim\": (0, 15)\n",
    "          }}\n"
   ]
  },
  {
   "cell_type": "markdown",
   "metadata": {},
   "source": [
    "Definition of the deterministic rule for target in this IR example\n",
    "\n",
    "| Condition 1 | Condition 2 | Kidney SOFA Score |\n",
    "| --- | --- | --- |\n",
    "| 0 < creatinine $\\leq$ 1.2 | 500 < urine | 0 |\n",
    "| 1.2 < creatinine $\\leq$ 1.9 | | 1 |\n",
    "| 1.9 < creatinine $\\leq$ 3.4 | | 2 |\n",
    "| 3.4 < creatinine $\\leq$ 4.9 | 200 < urine $\\leq$ 500| 3 |\n",
    "| creatinine > 4.9 | 0 < urine $\\leq$ 200| 4 |"
   ]
  },
  {
   "cell_type": "code",
   "execution_count": 11,
   "metadata": {},
   "outputs": [],
   "source": [
    "# Encode the rule in dictionary structure for plotting function so that we can\n",
    "# plot GAM against decision function\n",
    "decision_function = {0: {\"crea\": 0,\n",
    "                        \"urine24\": 500},\n",
    "                    1: {\"crea\": 1.2},\n",
    "                    2: {\"crea\": 1.9},\n",
    "                    3: {\"bili\": 3.4,\n",
    "                        \"urine24\": 200},\n",
    "                    4: {\"crea\": 4.9,\n",
    "                       \"urine24\": 0}}\n"
   ]
  },
  {
   "cell_type": "markdown",
   "metadata": {},
   "source": [
    "Plot GAM $\\mu_{c*}$ for identified circular feature set $c*$ reconstructing target labeling function:\n",
    "\n",
    "It is clear that the GAM can mostly reconstruct the target function given the features that define the function and the fit is (too) perfect. Inaccurcacies in the reconstruction of the decision function are explained in the book by lack of data in certain areas for the circular features."
   ]
  },
  {
   "cell_type": "code",
   "execution_count": 12,
   "metadata": {
    "pycharm": {
     "name": "#%%\n"
    }
   },
   "outputs": [
    {
     "data": {
      "image/png": "[encoded data removed]",
      "text/plain": [
       "<Figure size 432x288 with 2 Axes>"
      ]
     },
     "metadata": {
      "needs_background": "light"
     },
     "output_type": "display_data"
    }
   ],
   "source": [
    "term_list = construct_gam_term({\"plot\": config}, circular_features, plot=True)\n",
    "gam = build_gam(term_list)\n",
    "\n",
    "X, y = data[circular_features].to_numpy(), data[target].to_numpy()\n",
    "gam.fit(X,y)\n",
    "\n",
    "title = f\"GAM with circular features, D²: {round(score(gam, X,y)*100)}\"\n",
    "plot_gam_terms(config, gam, circular_features, circular_features=circular_features, decision_funct=decision_function, title=title)"
   ]
  },
  {
   "cell_type": "markdown",
   "metadata": {},
   "source": [
    "Plot GAM on full feature set: Nicely visible is the **Nullification** of the features that do not define the target labeling function."
   ]
  },
  {
   "cell_type": "code",
   "execution_count": 13,
   "metadata": {},
   "outputs": [
    {
     "data": {
      "image/png": "[encoded data removed]",
      "text/plain": [
       "<Figure size 432x288 with 6 Axes>"
      ]
     },
     "metadata": {
      "needs_background": "light"
     },
     "output_type": "display_data"
    }
   ],
   "source": [
    "term_list = construct_gam_term({\"plot\": config}, features, plot=True)\n",
    "full_gam = build_gam(term_list)\n",
    "\n",
    "X, y = data[features].to_numpy(), data[target].to_numpy()\n",
    "full_gam.fit(X,y)\n",
    "\n",
    "title = f\"GAM with all features, D²: {round(score(full_gam, X,y)*100)}\"\n",
    "plot_gam_terms(config, full_gam, features, circular_features=circular_features, title=title)"
   ]
  },
  {
   "cell_type": "markdown",
   "metadata": {},
   "source": [
    "Plot GAM on non-circular features for comparison: If circular features are not given, the other features have a reasonable impact on the prediction.\n",
    "But the fit of the model is not optimal. "
   ]
  },
  {
   "cell_type": "code",
   "execution_count": 14,
   "metadata": {},
   "outputs": [
    {
     "data": {
      "image/png": "[encoded data removed]",
      "text/plain": [
       "<Figure size 432x288 with 4 Axes>"
      ]
     },
     "metadata": {
      "needs_background": "light"
     },
     "output_type": "display_data"
    }
   ],
   "source": [
    "non_circular_gam = [gam[1] for gam in sorted_result_gams if gam[0] == nullified_features][0]\n",
    "title = f\"GAM without circular features, D²: {round(score(non_circular_gam, data[nullified_features].to_numpy(), data[target].to_numpy())*100)}\"\n",
    "\n",
    "plot_gam_terms(config, non_circular_gam, nullified_features, title=title)\n"
   ]
  }
 ],
 "metadata": {
  "kernelspec": {
   "display_name": "Python 3",
   "language": "python",
   "name": "python3"
  },
  "language_info": {
   "codemirror_mode": {
    "name": "ipython",
    "version": 3
   },
   "file_extension": ".py",
   "mimetype": "text/x-python",
   "name": "python",
   "nbconvert_exporter": "python",
   "pygments_lexer": "ipython3",
   "version": "3.8.2"
  },
  "pycharm": {
   "stem_cell": {
    "cell_type": "raw",
    "metadata": {
     "collapsed": false
    },
    "source": []
   }
  }
 },
 "nbformat": 4,
 "nbformat_minor": 1
}
