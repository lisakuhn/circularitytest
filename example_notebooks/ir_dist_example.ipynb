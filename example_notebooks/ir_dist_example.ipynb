{
 "cells": [
  {
   "cell_type": "markdown",
   "metadata": {
    "collapsed": true
   },
   "source": [
    "## Information Extraction Example - Circularity in Machine Learning Prediction\n"
   ]
  },
  {
   "cell_type": "markdown",
   "metadata": {},
   "source": [
    "In this notebook the circularity test from chapter 2.4.3 of \"Validity, Reliability, and Significance: Empirical Methods for NLP and Data Science\n",
    "\" (Riezler&Hagmann, 2021), for the IR example is executed and visualized step-by-step, just as circularitytest would handle it internally."
   ]
  },
  {
   "cell_type": "markdown",
   "metadata": {},
   "source": [
    "**Please note**: Unlike specified in the book and the accompanying code, I had trouble with the convergence of some of the GAMs when using a binomial distribution and logit link. However, unlike in mgcv, the circularity test (convergence of GAMs) worked perfectly when using a normal distribution and identity link. Therefore the distribution and link in this example are different from those in the book. "
   ]
  },
  {
   "cell_type": "markdown",
   "metadata": {},
   "source": [
    "\n",
    "**Definition Circularity Test (2.6)**: \\\n",
    "Given a dataset of feature-label relations $D = \\{(x^{n}, y^{n})\\}^{N}_{n=1}$ where $x^{n} = (x_1, x_2, . . . , x_p)$ is a $p$-dimensional feature vector, let $C \\subseteq P(\\{1, . . . , p\\})$ indicate the set of candidate circular features in dataset $D$, and let $M := \\{\\mu_c : c \\in C\\}$ be the set of models obtained by fitting a GAM based on feature set $c$ to the data $D$. A set of circular features $c∗$ is detected by applying the following two-step test:\n",
    "1. $c∗ = argmax_{c\\subseteq C} D^2(\\mu_c)$ where $D^2\n",
    "(\\mu_{c∗} )$ is close to 1, and in case\n",
    "the maximizer is not unique, the maximizer is chosen whose\n",
    "associated GAM $\\mu_{c∗}$ has the smallest degrees of freedom.\n",
    "2. The feature shapes of any other features added to the GAM\n",
    "$\\mu_{c∗}$ are nullified in the model $\\mu\\{1,...,p\\}$ that is based on the full\n",
    "feature set."
   ]
  },
  {
   "cell_type": "code",
   "execution_count": 1,
   "metadata": {},
   "outputs": [],
   "source": [
    "# Imports\n",
    "from circularitytest.gam import construct_powerset, construct_gam_term, build_gam, check_nullification, score\n",
    "from circularitytest.utils import load_r_data, preprocess_replace_data\n",
    "from circularitytest.plot import plot_gam_terms\n",
    "from tqdm import tqdm\n",
    "import pandas as pd\n",
    "pd.set_option('display.max_colwidth', 100)\n"
   ]
  },
  {
   "cell_type": "markdown",
   "metadata": {},
   "source": [
    "Features, Target for knowledge distillation from teacher trained for cross-lingual patent retrieval"
   ]
  },
  {
   "cell_type": "code",
   "execution_count": 2,
   "metadata": {},
   "outputs": [],
   "source": [
    "# Feature definitions\n",
    "features = sorted([\"cited_inventor\" , \"cited_examiner\", \"cited_family\", \"score_neural\", \"score_tfIdf\"])\n",
    "target = \"score_bief\"\n"
   ]
  },
  {
   "cell_type": "markdown",
   "metadata": {},
   "source": [
    "Construct all possible feature sets $c$ from the features "
   ]
  },
  {
   "cell_type": "code",
   "execution_count": 3,
   "metadata": {},
   "outputs": [
    {
     "data": {
      "text/plain": [
       "[['cited_examiner'],\n",
       " ['cited_family'],\n",
       " ['cited_inventor'],\n",
       " ['score_neural'],\n",
       " ['score_tfIdf'],\n",
       " ['cited_examiner', 'cited_family'],\n",
       " ['cited_examiner', 'cited_inventor'],\n",
       " ['cited_examiner', 'score_neural'],\n",
       " ['cited_examiner', 'score_tfIdf'],\n",
       " ['cited_family', 'cited_inventor'],\n",
       " ['cited_family', 'score_neural'],\n",
       " ['cited_family', 'score_tfIdf'],\n",
       " ['cited_inventor', 'score_neural'],\n",
       " ['cited_inventor', 'score_tfIdf'],\n",
       " ['score_neural', 'score_tfIdf'],\n",
       " ['cited_examiner', 'cited_family', 'cited_inventor'],\n",
       " ['cited_examiner', 'cited_family', 'score_neural'],\n",
       " ['cited_examiner', 'cited_family', 'score_tfIdf'],\n",
       " ['cited_examiner', 'cited_inventor', 'score_neural'],\n",
       " ['cited_examiner', 'cited_inventor', 'score_tfIdf'],\n",
       " ['cited_examiner', 'score_neural', 'score_tfIdf'],\n",
       " ['cited_family', 'cited_inventor', 'score_neural'],\n",
       " ['cited_family', 'cited_inventor', 'score_tfIdf'],\n",
       " ['cited_family', 'score_neural', 'score_tfIdf'],\n",
       " ['cited_inventor', 'score_neural', 'score_tfIdf'],\n",
       " ['cited_examiner', 'cited_family', 'cited_inventor', 'score_neural'],\n",
       " ['cited_examiner', 'cited_family', 'cited_inventor', 'score_tfIdf'],\n",
       " ['cited_examiner', 'cited_family', 'score_neural', 'score_tfIdf'],\n",
       " ['cited_examiner', 'cited_inventor', 'score_neural', 'score_tfIdf'],\n",
       " ['cited_family', 'cited_inventor', 'score_neural', 'score_tfIdf'],\n",
       " ['cited_examiner',\n",
       "  'cited_family',\n",
       "  'cited_inventor',\n",
       "  'score_neural',\n",
       "  'score_tfIdf']]"
      ]
     },
     "execution_count": 3,
     "metadata": {},
     "output_type": "execute_result"
    }
   ],
   "source": [
    "# Obtain feature combinations\n",
    "feature_combinations = construct_powerset(features)\n",
    "feature_combinations"
   ]
  },
  {
   "cell_type": "code",
   "execution_count": 4,
   "metadata": {
    "pycharm": {
     "name": "#%%\n"
    }
   },
   "outputs": [],
   "source": [
    "# Data loading utils: this is usually handled inside circularitytest\n",
    "data = load_r_data(\"../data/ir_example/ir_testset_with_pred.rds\")\n",
    "\n",
    "# convert string columns to numerical values\n",
    "preprocess = {\"columns\": [\"cited_inventor\", \"cited_examiner\", \"cited_family\"],\n",
    "             \"replace\": {\"no\": 0, \"yes\": 1}} \n",
    "\n",
    "data = preprocess_replace_data(data, preprocess)\n",
    "\n",
    "#specify GAM terms for certain features: for categorical terms: use linear term in GAM\n",
    "configuration = {\"features\": {\n",
    "                \"cited_inventor\":\n",
    "                     {\"term_type\": \"linear_term\", \"penalties\": \"none\"}, \n",
    "                 \"cited_examiner\":\n",
    "                     {\"term_type\": \"linear_term\", \"penalties\": \"none\"},\n",
    "                 \"cited_family\":\n",
    "                     {\"term_type\": \"linear_term\", \"penalties\": \"none\"}}}"
   ]
  },
  {
   "cell_type": "markdown",
   "metadata": {},
   "source": [
    "Fit GAMs on all feature sets \n",
    "and calculate the $D^2$ and effective degrees of freedom for each GAM"
   ]
  },
  {
   "cell_type": "code",
   "execution_count": 5,
   "metadata": {
    "pycharm": {
     "name": "#%%\n"
    }
   },
   "outputs": [
    {
     "name": "stderr",
     "output_type": "stream",
     "text": [
      "Fitting GAMs on Powerset: 100%|██████████| 31/31 [00:33<00:00,  1.09s/it]\n"
     ]
    }
   ],
   "source": [
    "#Fit GAMs for powerset and calculate Deviance explained as well as degrees of freedom\n",
    "gam_results = []\n",
    "\n",
    "\n",
    "for feature_combination in tqdm(feature_combinations, desc=\"Fitting GAMs on Powerset\"):\n",
    "    \n",
    " \n",
    "    term_list = construct_gam_term(configuration, feature_combination)\n",
    "    gam = build_gam(term_list)\n",
    "\n",
    "    X, y = data[feature_combination].to_numpy(), data[target].to_numpy()\n",
    "\n",
    "    gam.fit(X,y)\n",
    "\n",
    "    result = (feature_combination, gam, round(score(gam, X, y) * 100), gam.statistics_[\"edof\"])\n",
    "\n",
    "    gam_results.append(result)\n"
   ]
  },
  {
   "cell_type": "markdown",
   "metadata": {},
   "source": [
    "Sort GAMs according to $D^2$ and effective degrees of freedom"
   ]
  },
  {
   "cell_type": "code",
   "execution_count": 6,
   "metadata": {
    "pycharm": {
     "name": "#%%\n"
    }
   },
   "outputs": [
    {
     "data": {
      "text/html": [
       "<div>\n",
       "<style scoped>\n",
       "    .dataframe tbody tr th:only-of-type {\n",
       "        vertical-align: middle;\n",
       "    }\n",
       "\n",
       "    .dataframe tbody tr th {\n",
       "        vertical-align: top;\n",
       "    }\n",
       "\n",
       "    .dataframe thead th {\n",
       "        text-align: right;\n",
       "    }\n",
       "</style>\n",
       "<table border=\"1\" class=\"dataframe\">\n",
       "  <thead>\n",
       "    <tr style=\"text-align: right;\">\n",
       "      <th></th>\n",
       "      <th>Features</th>\n",
       "      <th>Deviance Explained</th>\n",
       "      <th>Effective Degrees of Freedom</th>\n",
       "    </tr>\n",
       "  </thead>\n",
       "  <tbody>\n",
       "    <tr>\n",
       "      <th>0</th>\n",
       "      <td>[cited_examiner, cited_family, cited_inventor]</td>\n",
       "      <td>100</td>\n",
       "      <td>4.000000</td>\n",
       "    </tr>\n",
       "    <tr>\n",
       "      <th>1</th>\n",
       "      <td>[cited_examiner, cited_family, cited_inventor, score_neural]</td>\n",
       "      <td>100</td>\n",
       "      <td>9.623317</td>\n",
       "    </tr>\n",
       "    <tr>\n",
       "      <th>2</th>\n",
       "      <td>[cited_examiner, cited_family, cited_inventor, score_tfIdf]</td>\n",
       "      <td>100</td>\n",
       "      <td>10.612330</td>\n",
       "    </tr>\n",
       "    <tr>\n",
       "      <th>3</th>\n",
       "      <td>[cited_examiner, cited_family, cited_inventor, score_neural, score_tfIdf]</td>\n",
       "      <td>100</td>\n",
       "      <td>16.230742</td>\n",
       "    </tr>\n",
       "    <tr>\n",
       "      <th>4</th>\n",
       "      <td>[cited_examiner, cited_inventor, score_neural, score_tfIdf]</td>\n",
       "      <td>95</td>\n",
       "      <td>15.232806</td>\n",
       "    </tr>\n",
       "    <tr>\n",
       "      <th>5</th>\n",
       "      <td>[cited_examiner, cited_inventor, score_tfIdf]</td>\n",
       "      <td>94</td>\n",
       "      <td>9.612505</td>\n",
       "    </tr>\n",
       "    <tr>\n",
       "      <th>6</th>\n",
       "      <td>[cited_examiner, cited_inventor, score_neural]</td>\n",
       "      <td>92</td>\n",
       "      <td>8.629683</td>\n",
       "    </tr>\n",
       "    <tr>\n",
       "      <th>7</th>\n",
       "      <td>[cited_examiner, cited_inventor]</td>\n",
       "      <td>89</td>\n",
       "      <td>3.000000</td>\n",
       "    </tr>\n",
       "    <tr>\n",
       "      <th>8</th>\n",
       "      <td>[cited_examiner, cited_family, score_neural, score_tfIdf]</td>\n",
       "      <td>79</td>\n",
       "      <td>15.232442</td>\n",
       "    </tr>\n",
       "    <tr>\n",
       "      <th>9</th>\n",
       "      <td>[cited_examiner, cited_family, score_tfIdf]</td>\n",
       "      <td>78</td>\n",
       "      <td>9.612529</td>\n",
       "    </tr>\n",
       "    <tr>\n",
       "      <th>10</th>\n",
       "      <td>[cited_examiner, score_neural, score_tfIdf]</td>\n",
       "      <td>77</td>\n",
       "      <td>14.233975</td>\n",
       "    </tr>\n",
       "    <tr>\n",
       "      <th>11</th>\n",
       "      <td>[cited_examiner, cited_family, score_neural]</td>\n",
       "      <td>76</td>\n",
       "      <td>8.626323</td>\n",
       "    </tr>\n",
       "    <tr>\n",
       "      <th>12</th>\n",
       "      <td>[cited_examiner, score_tfIdf]</td>\n",
       "      <td>75</td>\n",
       "      <td>8.612671</td>\n",
       "    </tr>\n",
       "    <tr>\n",
       "      <th>13</th>\n",
       "      <td>[cited_examiner, cited_family]</td>\n",
       "      <td>73</td>\n",
       "      <td>3.000000</td>\n",
       "    </tr>\n",
       "    <tr>\n",
       "      <th>14</th>\n",
       "      <td>[cited_examiner, score_neural]</td>\n",
       "      <td>72</td>\n",
       "      <td>7.631603</td>\n",
       "    </tr>\n",
       "    <tr>\n",
       "      <th>15</th>\n",
       "      <td>[cited_inventor, score_neural, score_tfIdf]</td>\n",
       "      <td>68</td>\n",
       "      <td>14.236488</td>\n",
       "    </tr>\n",
       "    <tr>\n",
       "      <th>16</th>\n",
       "      <td>[cited_family, cited_inventor, score_neural, score_tfIdf]</td>\n",
       "      <td>68</td>\n",
       "      <td>15.235803</td>\n",
       "    </tr>\n",
       "    <tr>\n",
       "      <th>17</th>\n",
       "      <td>[cited_inventor, score_tfIdf]</td>\n",
       "      <td>63</td>\n",
       "      <td>8.612972</td>\n",
       "    </tr>\n",
       "    <tr>\n",
       "      <th>18</th>\n",
       "      <td>[cited_family, cited_inventor, score_tfIdf]</td>\n",
       "      <td>63</td>\n",
       "      <td>9.612882</td>\n",
       "    </tr>\n",
       "    <tr>\n",
       "      <th>19</th>\n",
       "      <td>[cited_examiner]</td>\n",
       "      <td>62</td>\n",
       "      <td>2.000000</td>\n",
       "    </tr>\n",
       "    <tr>\n",
       "      <th>20</th>\n",
       "      <td>[score_neural, score_tfIdf]</td>\n",
       "      <td>61</td>\n",
       "      <td>13.236835</td>\n",
       "    </tr>\n",
       "    <tr>\n",
       "      <th>21</th>\n",
       "      <td>[cited_family, score_neural, score_tfIdf]</td>\n",
       "      <td>61</td>\n",
       "      <td>14.236164</td>\n",
       "    </tr>\n",
       "    <tr>\n",
       "      <th>22</th>\n",
       "      <td>[cited_family, cited_inventor, score_neural]</td>\n",
       "      <td>58</td>\n",
       "      <td>8.633513</td>\n",
       "    </tr>\n",
       "    <tr>\n",
       "      <th>23</th>\n",
       "      <td>[cited_inventor, score_neural]</td>\n",
       "      <td>57</td>\n",
       "      <td>7.636590</td>\n",
       "    </tr>\n",
       "    <tr>\n",
       "      <th>24</th>\n",
       "      <td>[score_tfIdf]</td>\n",
       "      <td>54</td>\n",
       "      <td>7.613047</td>\n",
       "    </tr>\n",
       "    <tr>\n",
       "      <th>25</th>\n",
       "      <td>[cited_family, score_tfIdf]</td>\n",
       "      <td>54</td>\n",
       "      <td>8.612957</td>\n",
       "    </tr>\n",
       "    <tr>\n",
       "      <th>26</th>\n",
       "      <td>[score_neural]</td>\n",
       "      <td>46</td>\n",
       "      <td>6.637433</td>\n",
       "    </tr>\n",
       "    <tr>\n",
       "      <th>27</th>\n",
       "      <td>[cited_family, score_neural]</td>\n",
       "      <td>46</td>\n",
       "      <td>7.634604</td>\n",
       "    </tr>\n",
       "    <tr>\n",
       "      <th>28</th>\n",
       "      <td>[cited_family, cited_inventor]</td>\n",
       "      <td>35</td>\n",
       "      <td>3.000000</td>\n",
       "    </tr>\n",
       "    <tr>\n",
       "      <th>29</th>\n",
       "      <td>[cited_inventor]</td>\n",
       "      <td>25</td>\n",
       "      <td>2.000000</td>\n",
       "    </tr>\n",
       "    <tr>\n",
       "      <th>30</th>\n",
       "      <td>[cited_family]</td>\n",
       "      <td>10</td>\n",
       "      <td>2.000000</td>\n",
       "    </tr>\n",
       "  </tbody>\n",
       "</table>\n",
       "</div>"
      ],
      "text/plain": [
       "                                                                     Features  \\\n",
       "0                              [cited_examiner, cited_family, cited_inventor]   \n",
       "1                [cited_examiner, cited_family, cited_inventor, score_neural]   \n",
       "2                 [cited_examiner, cited_family, cited_inventor, score_tfIdf]   \n",
       "3   [cited_examiner, cited_family, cited_inventor, score_neural, score_tfIdf]   \n",
       "4                 [cited_examiner, cited_inventor, score_neural, score_tfIdf]   \n",
       "5                               [cited_examiner, cited_inventor, score_tfIdf]   \n",
       "6                              [cited_examiner, cited_inventor, score_neural]   \n",
       "7                                            [cited_examiner, cited_inventor]   \n",
       "8                   [cited_examiner, cited_family, score_neural, score_tfIdf]   \n",
       "9                                 [cited_examiner, cited_family, score_tfIdf]   \n",
       "10                                [cited_examiner, score_neural, score_tfIdf]   \n",
       "11                               [cited_examiner, cited_family, score_neural]   \n",
       "12                                              [cited_examiner, score_tfIdf]   \n",
       "13                                             [cited_examiner, cited_family]   \n",
       "14                                             [cited_examiner, score_neural]   \n",
       "15                                [cited_inventor, score_neural, score_tfIdf]   \n",
       "16                  [cited_family, cited_inventor, score_neural, score_tfIdf]   \n",
       "17                                              [cited_inventor, score_tfIdf]   \n",
       "18                                [cited_family, cited_inventor, score_tfIdf]   \n",
       "19                                                           [cited_examiner]   \n",
       "20                                                [score_neural, score_tfIdf]   \n",
       "21                                  [cited_family, score_neural, score_tfIdf]   \n",
       "22                               [cited_family, cited_inventor, score_neural]   \n",
       "23                                             [cited_inventor, score_neural]   \n",
       "24                                                              [score_tfIdf]   \n",
       "25                                                [cited_family, score_tfIdf]   \n",
       "26                                                             [score_neural]   \n",
       "27                                               [cited_family, score_neural]   \n",
       "28                                             [cited_family, cited_inventor]   \n",
       "29                                                           [cited_inventor]   \n",
       "30                                                             [cited_family]   \n",
       "\n",
       "    Deviance Explained  Effective Degrees of Freedom  \n",
       "0                  100                      4.000000  \n",
       "1                  100                      9.623317  \n",
       "2                  100                     10.612330  \n",
       "3                  100                     16.230742  \n",
       "4                   95                     15.232806  \n",
       "5                   94                      9.612505  \n",
       "6                   92                      8.629683  \n",
       "7                   89                      3.000000  \n",
       "8                   79                     15.232442  \n",
       "9                   78                      9.612529  \n",
       "10                  77                     14.233975  \n",
       "11                  76                      8.626323  \n",
       "12                  75                      8.612671  \n",
       "13                  73                      3.000000  \n",
       "14                  72                      7.631603  \n",
       "15                  68                     14.236488  \n",
       "16                  68                     15.235803  \n",
       "17                  63                      8.612972  \n",
       "18                  63                      9.612882  \n",
       "19                  62                      2.000000  \n",
       "20                  61                     13.236835  \n",
       "21                  61                     14.236164  \n",
       "22                  58                      8.633513  \n",
       "23                  57                      7.636590  \n",
       "24                  54                      7.613047  \n",
       "25                  54                      8.612957  \n",
       "26                  46                      6.637433  \n",
       "27                  46                      7.634604  \n",
       "28                  35                      3.000000  \n",
       "29                  25                      2.000000  \n",
       "30                  10                      2.000000  "
      ]
     },
     "execution_count": 6,
     "metadata": {},
     "output_type": "execute_result"
    }
   ],
   "source": [
    "sorted_result_gams = sorted(gam_results, key=lambda x: (x[2], -x[3]), reverse=True)\n",
    "\n",
    "df = pd.DataFrame(sorted_result_gams, columns =['Features', 'GAM', 'Deviance Explained', \"Effective Degrees of Freedom\"]).drop('GAM', 1)\n",
    "df\n"
   ]
  },
  {
   "cell_type": "markdown",
   "metadata": {},
   "source": [
    "Check for step 1 of Circularity Test: \\\n",
    "    - Extract features $c*$ where GAM $\\mu_{c*}$ has highest $D^2$ and check that $D^2(\\mu_{c*})$ is close to 1 \\\n",
    "    - Check that it has the smallest degree of freedom among GAMs with same $D^2$ (not strictly necessary in this instance due to sorting function)"
   ]
  },
  {
   "cell_type": "code",
   "execution_count": 7,
   "metadata": {
    "pycharm": {
     "name": "#%%\n"
    }
   },
   "outputs": [],
   "source": [
    "#check that top gam is close to 1\n",
    "circularity_candidate = sorted_result_gams[0]\n",
    "\n",
    "assert circularity_candidate[2] > 80, \"No GAM has a good fit for the data\"\n",
    "assert all(i > circularity_candidate[3] for i in [elem[3] for elem in sorted_result_gams if elem[0] != circularity_candidate[0]\n",
    "                                                     and circularity_candidate[2] == elem[2]]),\\\n",
    "                \"Best GAM does not have the smallest degrees of freedom\""
   ]
  },
  {
   "cell_type": "markdown",
   "metadata": {},
   "source": [
    "Check for step 2 of Circularity Test: **Nullification** \\\n",
    "Take GAM fitted on full feature set and check that all features that are not in $c*$ are nullified: feature shapes are constant (zero) function. I used the standard deviation of a smooth term as the measure for nullification. \n",
    "\n",
    "-> feature shapes are visualized as further proof under following section Visualizations"
   ]
  },
  {
   "cell_type": "code",
   "execution_count": 8,
   "metadata": {},
   "outputs": [
    {
     "data": {
      "text/plain": [
       "['score_neural', 'score_tfIdf']"
      ]
     },
     "execution_count": 8,
     "metadata": {},
     "output_type": "execute_result"
    }
   ],
   "source": [
    "# If we have a circularity candidate: check for nullification in GAM with all features\n",
    "full_gam = [gam[1] for gam in sorted_result_gams if gam[0] == features][0]\n",
    "\n",
    "nullified_features = check_nullification(full_gam, features, threshold=0.001)\n",
    "nullified_features\n"
   ]
  },
  {
   "cell_type": "code",
   "execution_count": 9,
   "metadata": {
    "pycharm": {
     "name": "#%%\n"
    }
   },
   "outputs": [
    {
     "name": "stdout",
     "output_type": "stream",
     "text": [
      "Circular features found: cited_examiner, cited_family, cited_inventor\n"
     ]
    }
   ],
   "source": [
    "# Check that nullified features are not in circularity candidate feature set c*\n",
    "if nullified_features == sorted(list(set(features)-set(circularity_candidate[0]))):\n",
    "    circular_features = circularity_candidate[0]\n",
    "    print(f\"Circular features found: {', '.join(circular_features)}\")\n",
    "\n",
    "else:\n",
    "    print(\"No circular features were found.\")"
   ]
  },
  {
   "cell_type": "markdown",
   "metadata": {},
   "source": [
    "After applying the Circularity Test we can conclude that the features cited_examiner, cited_family and cited_inventor are indeed circular features: \\\n",
    "    - The GAM trained on the citation features only achieves optimal fit to data with the smallest degrees of freedom. \\\n",
    "    - All other features are nullified in the presence of the citation features.  \\\n",
    "    \n",
    "Therefore, we can say that the teacher model used to train the GAMs must have had access to the circular citation features during training. \n",
    "\n",
    "\n",
    "Visualizations are below for further clarification. "
   ]
  },
  {
   "cell_type": "markdown",
   "metadata": {
    "pycharm": {
     "name": "#%% md\n"
    }
   },
   "source": [
    "### Visualizations"
   ]
  },
  {
   "cell_type": "code",
   "execution_count": 10,
   "metadata": {
    "pycharm": {
     "name": "#%%\n"
    }
   },
   "outputs": [],
   "source": [
    "#Plotting definitions for nice presentation: x and y limits, combine feature shapes for\n",
    "# circular features in one subplot\n",
    "\n",
    "config = {\"ylim\": (-0.5, 1.5),\n",
    "         \"categorical\": {\n",
    "             \"combine\": [\"cited_inventor\", \"cited_examiner\", \"cited_family\"],\n",
    "             \"combined_name\": \"citation_feature\"\n",
    "         },\n",
    "         \"citation_feature\": {\n",
    "             \"xlim\": (0,3)\n",
    "         },\n",
    "         \"score_neural\": {\n",
    "             \"xlim\": (-20, 15)\n",
    "         }}\n",
    "\n"
   ]
  },
  {
   "cell_type": "markdown",
   "metadata": {
    "pycharm": {
     "name": "#%% md\n"
    }
   },
   "source": [
    "Definition of the deterministic rule for target in this IR example\n",
    "\n",
    "| Condition | Relevance Score |\n",
    "| --- | --- |\n",
    "| no citation | 0 |\n",
    "| inventor / examiner / family citation | 1 |"
   ]
  },
  {
   "cell_type": "code",
   "execution_count": 11,
   "metadata": {
    "pycharm": {
     "name": "#%%\n"
    }
   },
   "outputs": [],
   "source": [
    "# Encode the rule in dictionary structure for plotting function so that we can\n",
    "# plot GAM against decision function\n",
    "decision_function = {0: \"None\",\n",
    "                    1: [\"cited_inventor\", \"cited_examiner\",\"cited_family\"]}\n"
   ]
  },
  {
   "cell_type": "markdown",
   "metadata": {
    "pycharm": {
     "name": "#%% md\n"
    }
   },
   "source": [
    "Plot GAM $\\mu_{c*}$ for identified circular feature set $c*$ reconstructing target labeling function:\n",
    "\n",
    "It is clear that the GAM can perfectly reconstruct the target function given the features that define the function and the fit is (too) perfect."
   ]
  },
  {
   "cell_type": "code",
   "execution_count": 12,
   "metadata": {
    "pycharm": {
     "name": "#%%\n"
    }
   },
   "outputs": [
    {
     "data": {
      "image/png": "[encoded data removed]",
      "text/plain": [
       "<Figure size 432x288 with 1 Axes>"
      ]
     },
     "metadata": {
      "needs_background": "light"
     },
     "output_type": "display_data"
    }
   ],
   "source": [
    "gam = circularity_candidate[1]\n",
    "title = f\"GAM with circular features, D²: {round(score(gam, data[circular_features].to_numpy(), data[target].to_numpy())*100)}\"\n",
    "plot_gam_terms(config, gam, circular_features, decision_funct=decision_function, title=title)"
   ]
  },
  {
   "cell_type": "markdown",
   "metadata": {
    "pycharm": {
     "name": "#%% md\n"
    }
   },
   "source": [
    "Plot GAM on full feature set: Nicely visible is the **Nullification** of the features that do not define the target labeling function."
   ]
  },
  {
   "cell_type": "code",
   "execution_count": 13,
   "metadata": {
    "pycharm": {
     "name": "#%%\n"
    }
   },
   "outputs": [
    {
     "data": {
      "image/png": "[encoded data removed]",
      "text/plain": [
       "<Figure size 432x288 with 3 Axes>"
      ]
     },
     "metadata": {
      "needs_background": "light"
     },
     "output_type": "display_data"
    }
   ],
   "source": [
    "title = f\"GAM with all features, D²: {round(score(full_gam, data[features].to_numpy(), data[target].to_numpy())*100)}\"\n",
    "plot_gam_terms(config, full_gam, features, title=title)"
   ]
  },
  {
   "cell_type": "markdown",
   "metadata": {
    "pycharm": {
     "name": "#%% md\n"
    }
   },
   "source": [
    "Plot GAM on non-circular features for comparison: If circular features are not given, the other features have a reasonable impact on the prediction.\n",
    "But the fit of the model is not optimal. "
   ]
  },
  {
   "cell_type": "code",
   "execution_count": 14,
   "metadata": {
    "pycharm": {
     "name": "#%%\n"
    }
   },
   "outputs": [
    {
     "data": {
      "image/png": "[encoded data removed]",
      "text/plain": [
       "<Figure size 432x288 with 2 Axes>"
      ]
     },
     "metadata": {
      "needs_background": "light"
     },
     "output_type": "display_data"
    }
   ],
   "source": [
    "non_circular_gam = [gam[1] for gam in sorted_result_gams if gam[0] == nullified_features][0]\n",
    "title = f\"GAM without circular features, D²: {round(score(non_circular_gam, data[nullified_features].to_numpy(), data[target].to_numpy())*100)}\"\n",
    "\n",
    "plot_gam_terms(config, non_circular_gam, nullified_features, title=title)\n"
   ]
  }
 ],
 "metadata": {
  "kernelspec": {
   "display_name": "Python 3",
   "language": "python",
   "name": "python3"
  },
  "language_info": {
   "codemirror_mode": {
    "name": "ipython",
    "version": 3
   },
   "file_extension": ".py",
   "mimetype": "text/x-python",
   "name": "python",
   "nbconvert_exporter": "python",
   "pygments_lexer": "ipython3",
   "version": "3.8.2"
  },
  "pycharm": {
   "stem_cell": {
    "cell_type": "raw",
    "source": [],
    "metadata": {
     "collapsed": false
    }
   }
  }
 },
 "nbformat": 4,
 "nbformat_minor": 1
}