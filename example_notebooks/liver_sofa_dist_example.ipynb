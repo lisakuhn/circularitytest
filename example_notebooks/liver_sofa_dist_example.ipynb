{
 "cells": [
  {
   "cell_type": "markdown",
   "metadata": {
    "collapsed": true
   },
   "source": [
    "## Sepsis Prediction with SOFA score - Liver Example - Circularity in Machine Learning Prediction\n"
   ]
  },
  {
   "cell_type": "markdown",
   "metadata": {},
   "source": [
    "In this notebook the circularity test from chapter 2.4.3 of \"Validity, Reliability, and Significance: Empirical Methods for NLP and Data Science\n",
    "\" (Riezler&Hagmann, 2021), for the liver sofa example is executed and visualized step-by-step, just as circularitytest would handle it internally."
   ]
  },
  {
   "cell_type": "markdown",
   "metadata": {},
   "source": [
    "\n",
    "**Definition Circularity Test (2.6)**: \\\n",
    "Given a dataset of feature-label relations $D = \\{(x^{n}, y^{n})\\}^{N}_{n=1}$ where $x^{n} = (x_1, x_2, . . . , x_p)$ is a $p$-dimensional feature vector, let $C \\subseteq P(\\{1, . . . , p\\})$ indicate the set of candidate circular features in dataset $D$, and let $M := \\{\\mu_c : c \\in C\\}$ be the set of models obtained by fitting a GAM based on feature set $c$ to the data $D$. A set of circular features $c∗$ is detected by applying the following two-step test:\n",
    "1. $c∗ = argmax_{c\\subseteq C} D^2(\\mu_c)$ where $D^2\n",
    "(\\mu_{c∗} )$ is close to 1, and in case\n",
    "the maximizer is not unique, the maximizer is chosen whose\n",
    "associated GAM $\\mu_{c∗}$ has the smallest degrees of freedom.\n",
    "2. The feature shapes of any other features added to the GAM\n",
    "$\\mu_{c∗}$ are nullified in the model $\\mu\\{1,...,p\\}$ that is based on the full\n",
    "feature set."
   ]
  },
  {
   "cell_type": "code",
   "execution_count": 1,
   "metadata": {},
   "outputs": [],
   "source": [
    "# Imports\n",
    "from circularitytest.gam import construct_powerset, construct_gam_term, build_gam, check_nullification, score\n",
    "from circularitytest.utils import load_r_data, preprocess_replace_data\n",
    "from circularitytest.plot import plot_gam_terms\n",
    "from tqdm import tqdm\n",
    "import pandas as pd\n",
    "pd.set_option('display.max_colwidth', 100)\n"
   ]
  },
  {
   "cell_type": "markdown",
   "metadata": {},
   "source": [
    "Features, Target (predictions from teacher model) for sepsis prediction with liver sofa score"
   ]
  },
  {
   "cell_type": "code",
   "execution_count": 2,
   "metadata": {},
   "outputs": [],
   "source": [
    "# Feature definitions\n",
    "features = sorted([\"bili\", \"thrombo\", \"hzv\", \"svri\", \"urine24\"])\n",
    "target = \"sofa_circ\"\n"
   ]
  },
  {
   "cell_type": "markdown",
   "metadata": {},
   "source": [
    "Construct all possible feature sets $c$ from the features "
   ]
  },
  {
   "cell_type": "code",
   "execution_count": 3,
   "metadata": {},
   "outputs": [
    {
     "data": {
      "text/plain": [
       "[['bili'],\n",
       " ['hzv'],\n",
       " ['svri'],\n",
       " ['thrombo'],\n",
       " ['urine24'],\n",
       " ['bili', 'hzv'],\n",
       " ['bili', 'svri'],\n",
       " ['bili', 'thrombo'],\n",
       " ['bili', 'urine24'],\n",
       " ['hzv', 'svri'],\n",
       " ['hzv', 'thrombo'],\n",
       " ['hzv', 'urine24'],\n",
       " ['svri', 'thrombo'],\n",
       " ['svri', 'urine24'],\n",
       " ['thrombo', 'urine24'],\n",
       " ['bili', 'hzv', 'svri'],\n",
       " ['bili', 'hzv', 'thrombo'],\n",
       " ['bili', 'hzv', 'urine24'],\n",
       " ['bili', 'svri', 'thrombo'],\n",
       " ['bili', 'svri', 'urine24'],\n",
       " ['bili', 'thrombo', 'urine24'],\n",
       " ['hzv', 'svri', 'thrombo'],\n",
       " ['hzv', 'svri', 'urine24'],\n",
       " ['hzv', 'thrombo', 'urine24'],\n",
       " ['svri', 'thrombo', 'urine24'],\n",
       " ['bili', 'hzv', 'svri', 'thrombo'],\n",
       " ['bili', 'hzv', 'svri', 'urine24'],\n",
       " ['bili', 'hzv', 'thrombo', 'urine24'],\n",
       " ['bili', 'svri', 'thrombo', 'urine24'],\n",
       " ['hzv', 'svri', 'thrombo', 'urine24'],\n",
       " ['bili', 'hzv', 'svri', 'thrombo', 'urine24']]"
      ]
     },
     "execution_count": 3,
     "metadata": {},
     "output_type": "execute_result"
    }
   ],
   "source": [
    "# Obtain feature combinations\n",
    "feature_combinations = construct_powerset(features)\n",
    "feature_combinations"
   ]
  },
  {
   "cell_type": "code",
   "execution_count": 4,
   "metadata": {
    "pycharm": {
     "name": "#%%\n"
    }
   },
   "outputs": [],
   "source": [
    "# Data loading: this is usually handled inside circularitytest\n",
    "data = load_r_data(\"../data/liver_sofa_example/test_set_with_sofa_predictions.rds\")"
   ]
  },
  {
   "cell_type": "markdown",
   "metadata": {},
   "source": [
    "Fit GAMs on all feature sets \n",
    "and calculate the $D^2$ and effective degrees of freedom for each GAM"
   ]
  },
  {
   "cell_type": "code",
   "execution_count": 5,
   "metadata": {
    "pycharm": {
     "name": "#%%\n"
    }
   },
   "outputs": [
    {
     "name": "stderr",
     "output_type": "stream",
     "text": [
      "Fitting GAMs on Powerset: 100%|██████████| 31/31 [00:50<00:00,  1.62s/it]\n"
     ]
    }
   ],
   "source": [
    "#Fit GAMs for powerset and calculate Deviance explained as well as degrees of freedom\n",
    "gam_results = []\n",
    "\n",
    "\n",
    "for feature_combination in tqdm(feature_combinations, desc=\"Fitting GAMs on Powerset\"):\n",
    "    \n",
    " \n",
    "    term_list = construct_gam_term({}, feature_combination)\n",
    "    gam = build_gam(term_list)\n",
    "\n",
    "    X, y = data[feature_combination].to_numpy(), data[target].to_numpy()\n",
    "\n",
    "    gam.fit(X,y)\n",
    "\n",
    "    result = (feature_combination, gam, round(score(gam, X, y) * 100), gam.statistics_[\"edof\"])\n",
    "\n",
    "    gam_results.append(result)\n"
   ]
  },
  {
   "cell_type": "markdown",
   "metadata": {},
   "source": [
    "Sort GAMs according to $D^2$ and effective degrees of freedom"
   ]
  },
  {
   "cell_type": "code",
   "execution_count": 6,
   "metadata": {
    "pycharm": {
     "name": "#%%\n"
    }
   },
   "outputs": [
    {
     "data": {
      "text/html": [
       "<div>\n",
       "<style scoped>\n",
       "    .dataframe tbody tr th:only-of-type {\n",
       "        vertical-align: middle;\n",
       "    }\n",
       "\n",
       "    .dataframe tbody tr th {\n",
       "        vertical-align: top;\n",
       "    }\n",
       "\n",
       "    .dataframe thead th {\n",
       "        text-align: right;\n",
       "    }\n",
       "</style>\n",
       "<table border=\"1\" class=\"dataframe\">\n",
       "  <thead>\n",
       "    <tr style=\"text-align: right;\">\n",
       "      <th></th>\n",
       "      <th>Features</th>\n",
       "      <th>Deviance Explained</th>\n",
       "      <th>Effective Degrees of Freedom</th>\n",
       "    </tr>\n",
       "  </thead>\n",
       "  <tbody>\n",
       "    <tr>\n",
       "      <th>0</th>\n",
       "      <td>[bili]</td>\n",
       "      <td>96</td>\n",
       "      <td>7.800054</td>\n",
       "    </tr>\n",
       "    <tr>\n",
       "      <th>1</th>\n",
       "      <td>[bili, svri]</td>\n",
       "      <td>96</td>\n",
       "      <td>13.795313</td>\n",
       "    </tr>\n",
       "    <tr>\n",
       "      <th>2</th>\n",
       "      <td>[bili, hzv]</td>\n",
       "      <td>96</td>\n",
       "      <td>13.811413</td>\n",
       "    </tr>\n",
       "    <tr>\n",
       "      <th>3</th>\n",
       "      <td>[bili, thrombo]</td>\n",
       "      <td>96</td>\n",
       "      <td>15.025612</td>\n",
       "    </tr>\n",
       "    <tr>\n",
       "      <th>4</th>\n",
       "      <td>[bili, urine24]</td>\n",
       "      <td>96</td>\n",
       "      <td>15.278454</td>\n",
       "    </tr>\n",
       "    <tr>\n",
       "      <th>5</th>\n",
       "      <td>[bili, hzv, svri]</td>\n",
       "      <td>96</td>\n",
       "      <td>19.710934</td>\n",
       "    </tr>\n",
       "    <tr>\n",
       "      <th>6</th>\n",
       "      <td>[bili, svri, thrombo]</td>\n",
       "      <td>96</td>\n",
       "      <td>21.018138</td>\n",
       "    </tr>\n",
       "    <tr>\n",
       "      <th>7</th>\n",
       "      <td>[bili, hzv, thrombo]</td>\n",
       "      <td>96</td>\n",
       "      <td>21.032921</td>\n",
       "    </tr>\n",
       "    <tr>\n",
       "      <th>8</th>\n",
       "      <td>[bili, svri, urine24]</td>\n",
       "      <td>96</td>\n",
       "      <td>21.270847</td>\n",
       "    </tr>\n",
       "    <tr>\n",
       "      <th>9</th>\n",
       "      <td>[bili, hzv, urine24]</td>\n",
       "      <td>96</td>\n",
       "      <td>21.286093</td>\n",
       "    </tr>\n",
       "    <tr>\n",
       "      <th>10</th>\n",
       "      <td>[bili, thrombo, urine24]</td>\n",
       "      <td>96</td>\n",
       "      <td>22.501562</td>\n",
       "    </tr>\n",
       "    <tr>\n",
       "      <th>11</th>\n",
       "      <td>[bili, hzv, svri, thrombo]</td>\n",
       "      <td>96</td>\n",
       "      <td>26.930000</td>\n",
       "    </tr>\n",
       "    <tr>\n",
       "      <th>12</th>\n",
       "      <td>[bili, hzv, svri, urine24]</td>\n",
       "      <td>96</td>\n",
       "      <td>27.183932</td>\n",
       "    </tr>\n",
       "    <tr>\n",
       "      <th>13</th>\n",
       "      <td>[bili, svri, thrombo, urine24]</td>\n",
       "      <td>96</td>\n",
       "      <td>28.491051</td>\n",
       "    </tr>\n",
       "    <tr>\n",
       "      <th>14</th>\n",
       "      <td>[bili, hzv, thrombo, urine24]</td>\n",
       "      <td>96</td>\n",
       "      <td>28.505315</td>\n",
       "    </tr>\n",
       "    <tr>\n",
       "      <th>15</th>\n",
       "      <td>[bili, hzv, svri, thrombo, urine24]</td>\n",
       "      <td>96</td>\n",
       "      <td>34.400421</td>\n",
       "    </tr>\n",
       "    <tr>\n",
       "      <th>16</th>\n",
       "      <td>[hzv, svri, thrombo, urine24]</td>\n",
       "      <td>37</td>\n",
       "      <td>27.613711</td>\n",
       "    </tr>\n",
       "    <tr>\n",
       "      <th>17</th>\n",
       "      <td>[hzv, thrombo, urine24]</td>\n",
       "      <td>35</td>\n",
       "      <td>21.716236</td>\n",
       "    </tr>\n",
       "    <tr>\n",
       "      <th>18</th>\n",
       "      <td>[svri, thrombo, urine24]</td>\n",
       "      <td>34</td>\n",
       "      <td>21.701449</td>\n",
       "    </tr>\n",
       "    <tr>\n",
       "      <th>19</th>\n",
       "      <td>[hzv, svri, thrombo]</td>\n",
       "      <td>33</td>\n",
       "      <td>20.141225</td>\n",
       "    </tr>\n",
       "    <tr>\n",
       "      <th>20</th>\n",
       "      <td>[hzv, thrombo]</td>\n",
       "      <td>31</td>\n",
       "      <td>14.241668</td>\n",
       "    </tr>\n",
       "    <tr>\n",
       "      <th>21</th>\n",
       "      <td>[svri, thrombo]</td>\n",
       "      <td>30</td>\n",
       "      <td>14.226493</td>\n",
       "    </tr>\n",
       "    <tr>\n",
       "      <th>22</th>\n",
       "      <td>[hzv, svri, urine24]</td>\n",
       "      <td>28</td>\n",
       "      <td>20.391034</td>\n",
       "    </tr>\n",
       "    <tr>\n",
       "      <th>23</th>\n",
       "      <td>[hzv, urine24]</td>\n",
       "      <td>26</td>\n",
       "      <td>14.491262</td>\n",
       "    </tr>\n",
       "    <tr>\n",
       "      <th>24</th>\n",
       "      <td>[thrombo, urine24]</td>\n",
       "      <td>26</td>\n",
       "      <td>15.709410</td>\n",
       "    </tr>\n",
       "    <tr>\n",
       "      <th>25</th>\n",
       "      <td>[svri, urine24]</td>\n",
       "      <td>24</td>\n",
       "      <td>14.475432</td>\n",
       "    </tr>\n",
       "    <tr>\n",
       "      <th>26</th>\n",
       "      <td>[thrombo]</td>\n",
       "      <td>21</td>\n",
       "      <td>8.231176</td>\n",
       "    </tr>\n",
       "    <tr>\n",
       "      <th>27</th>\n",
       "      <td>[hzv, svri]</td>\n",
       "      <td>20</td>\n",
       "      <td>12.916303</td>\n",
       "    </tr>\n",
       "    <tr>\n",
       "      <th>28</th>\n",
       "      <td>[hzv]</td>\n",
       "      <td>17</td>\n",
       "      <td>7.014752</td>\n",
       "    </tr>\n",
       "    <tr>\n",
       "      <th>29</th>\n",
       "      <td>[svri]</td>\n",
       "      <td>15</td>\n",
       "      <td>6.998134</td>\n",
       "    </tr>\n",
       "    <tr>\n",
       "      <th>30</th>\n",
       "      <td>[urine24]</td>\n",
       "      <td>14</td>\n",
       "      <td>8.480445</td>\n",
       "    </tr>\n",
       "  </tbody>\n",
       "</table>\n",
       "</div>"
      ],
      "text/plain": [
       "                               Features  Deviance Explained  \\\n",
       "0                                [bili]                  96   \n",
       "1                          [bili, svri]                  96   \n",
       "2                           [bili, hzv]                  96   \n",
       "3                       [bili, thrombo]                  96   \n",
       "4                       [bili, urine24]                  96   \n",
       "5                     [bili, hzv, svri]                  96   \n",
       "6                 [bili, svri, thrombo]                  96   \n",
       "7                  [bili, hzv, thrombo]                  96   \n",
       "8                 [bili, svri, urine24]                  96   \n",
       "9                  [bili, hzv, urine24]                  96   \n",
       "10             [bili, thrombo, urine24]                  96   \n",
       "11           [bili, hzv, svri, thrombo]                  96   \n",
       "12           [bili, hzv, svri, urine24]                  96   \n",
       "13       [bili, svri, thrombo, urine24]                  96   \n",
       "14        [bili, hzv, thrombo, urine24]                  96   \n",
       "15  [bili, hzv, svri, thrombo, urine24]                  96   \n",
       "16        [hzv, svri, thrombo, urine24]                  37   \n",
       "17              [hzv, thrombo, urine24]                  35   \n",
       "18             [svri, thrombo, urine24]                  34   \n",
       "19                 [hzv, svri, thrombo]                  33   \n",
       "20                       [hzv, thrombo]                  31   \n",
       "21                      [svri, thrombo]                  30   \n",
       "22                 [hzv, svri, urine24]                  28   \n",
       "23                       [hzv, urine24]                  26   \n",
       "24                   [thrombo, urine24]                  26   \n",
       "25                      [svri, urine24]                  24   \n",
       "26                            [thrombo]                  21   \n",
       "27                          [hzv, svri]                  20   \n",
       "28                                [hzv]                  17   \n",
       "29                               [svri]                  15   \n",
       "30                            [urine24]                  14   \n",
       "\n",
       "    Effective Degrees of Freedom  \n",
       "0                       7.800054  \n",
       "1                      13.795313  \n",
       "2                      13.811413  \n",
       "3                      15.025612  \n",
       "4                      15.278454  \n",
       "5                      19.710934  \n",
       "6                      21.018138  \n",
       "7                      21.032921  \n",
       "8                      21.270847  \n",
       "9                      21.286093  \n",
       "10                     22.501562  \n",
       "11                     26.930000  \n",
       "12                     27.183932  \n",
       "13                     28.491051  \n",
       "14                     28.505315  \n",
       "15                     34.400421  \n",
       "16                     27.613711  \n",
       "17                     21.716236  \n",
       "18                     21.701449  \n",
       "19                     20.141225  \n",
       "20                     14.241668  \n",
       "21                     14.226493  \n",
       "22                     20.391034  \n",
       "23                     14.491262  \n",
       "24                     15.709410  \n",
       "25                     14.475432  \n",
       "26                      8.231176  \n",
       "27                     12.916303  \n",
       "28                      7.014752  \n",
       "29                      6.998134  \n",
       "30                      8.480445  "
      ]
     },
     "execution_count": 6,
     "metadata": {},
     "output_type": "execute_result"
    }
   ],
   "source": [
    "sorted_result_gams = sorted(gam_results, key=lambda x: (x[2], -x[3]), reverse=True)\n",
    "\n",
    "df = pd.DataFrame(sorted_result_gams, columns =['Features', 'GAM', 'Deviance Explained', \"Effective Degrees of Freedom\"]).drop('GAM', 1)\n",
    "df\n"
   ]
  },
  {
   "cell_type": "markdown",
   "metadata": {},
   "source": [
    "Check for step 1 of Circularity Test: \\\n",
    "    - Extract features $c*$ where GAM $\\mu_{c*}$ has highest $D^2$ and check that $D^2(\\mu_{c*})$ is close to 1 \\\n",
    "    - Check that it has the smallest degree of freedom among GAMs with same $D^2$ (not strictly necessary in this instance due to sorting function)"
   ]
  },
  {
   "cell_type": "code",
   "execution_count": 7,
   "metadata": {
    "pycharm": {
     "name": "#%%\n"
    }
   },
   "outputs": [],
   "source": [
    "#check that top gam is close to 1\n",
    "circularity_candidate = sorted_result_gams[0]\n",
    "\n",
    "assert circularity_candidate[2] > 90, \"No GAM has a good fit for the data\"\n",
    "assert all(i > circularity_candidate[3] for i in [elem[3] for elem in sorted_result_gams if elem[0] != circularity_candidate[0]\n",
    "                                                     and circularity_candidate[2] == elem[2]]),\\\n",
    "                \"Best GAM does not have the smallest degrees of freedom\""
   ]
  },
  {
   "cell_type": "markdown",
   "metadata": {},
   "source": [
    "Check for step 2 of Circularity Test: **Nullification** \\\n",
    "Take GAM fitted on full feature set and check that all features that are not in $c*$ are nullified: feature shapes are constant (zero) function. I used the standard deviation as a measure for nullification. \n",
    " \n",
    "\n",
    "-> feature shapes are visualized as further proof under following section Visualizations"
   ]
  },
  {
   "cell_type": "code",
   "execution_count": 8,
   "metadata": {},
   "outputs": [
    {
     "data": {
      "text/plain": [
       "['hzv', 'svri', 'thrombo', 'urine24']"
      ]
     },
     "execution_count": 8,
     "metadata": {},
     "output_type": "execute_result"
    }
   ],
   "source": [
    "# If we have a circularity candidate: check for nullification in GAM with all features\n",
    "full_gam = [gam[1] for gam in sorted_result_gams if gam[0] == features][0]\n",
    "\n",
    "nullified_features = check_nullification(full_gam, features, threshold=0.12)\n",
    "nullified_features\n"
   ]
  },
  {
   "cell_type": "code",
   "execution_count": 9,
   "metadata": {
    "pycharm": {
     "name": "#%%\n"
    }
   },
   "outputs": [
    {
     "name": "stdout",
     "output_type": "stream",
     "text": [
      "Circular features found: bili\n"
     ]
    }
   ],
   "source": [
    "# Check that nullified features are not in circularity candidate feature set c*\n",
    "if nullified_features == sorted(list(set(features)-set(circularity_candidate[0]))):\n",
    "    circular_features = circularity_candidate[0]\n",
    "    print(f\"Circular features found: {', '.join(circular_features)}\")\n",
    "\n",
    "else:\n",
    "    print(\"No circular features were found.\")"
   ]
  },
  {
   "cell_type": "markdown",
   "metadata": {},
   "source": [
    "After applying the Circularity Test we can conclude that the feature bilirubin(bili) is a circular feature and can deterministically predict the SOFA score: \\\n",
    "    - The GAM trained on the bili feature only achieves optimal fit to data with the smallest degrees of freedom. \\\n",
    "    - All other features are nullified in the presence of the bili feature.  \\\n",
    "Therefore, the teacher model used to train the GAMs must have had access to bilirubin as a feature during training.\n",
    "\n",
    "\n",
    "Visualizations are below for further clarification. "
   ]
  },
  {
   "cell_type": "markdown",
   "metadata": {},
   "source": [
    "### Visualizations"
   ]
  },
  {
   "cell_type": "code",
   "execution_count": 10,
   "metadata": {
    "pycharm": {
     "name": "#%%\n"
    }
   },
   "outputs": [],
   "source": [
    "#Plotting definitions for nice presentation: x and y limits, increased number of splines\n",
    "\n",
    "config = {\"ylim\": (-1, 4.3),\n",
    "         \"bili\": {\n",
    "             \"xlim\": (0,15),\n",
    "             \"n_splines\": 100\n",
    "         },\n",
    "         \"thrombo\": {\n",
    "             \"xlim\": (0, 550)\n",
    "         },\n",
    "         \"hzv\": {\n",
    "             \"xlim\": (0, 18)\n",
    "         },\n",
    "         \"svri\": {\n",
    "             \"xlim\": (0, 7000)\n",
    "         }}\n"
   ]
  },
  {
   "cell_type": "markdown",
   "metadata": {},
   "source": [
    "Definition of the deterministic rule for target in this IR example\n",
    "\n",
    "| Condition | Liver SOFA Score |\n",
    "| --- | --- |\n",
    "| 0 < bilirubin $\\leq$ 1.2 | 0 |\n",
    "| 1.2 < bilirubin $\\leq$ 1.9 | 1 |\n",
    "| 1.9 < bilirubin $\\leq$ 5.9 | 2 |\n",
    "| 5.9 < bilirubin $\\leq$ 11.9 | 3 |\n",
    "| bilirubin > 11.9 | 4 |"
   ]
  },
  {
   "cell_type": "code",
   "execution_count": 11,
   "metadata": {},
   "outputs": [],
   "source": [
    "# Encode the rule in dictionary structure for plotting function so that we can\n",
    "# plot GAM against decision function\n",
    "decision_function = {0: {\"bili\": 0},\n",
    "                    1: {\"bili\": 1.2},\n",
    "                    2: {\"bili\": 1.9},\n",
    "                    3: {\"bili\": 5.9},\n",
    "                    4: {\"bili\": 11.9}}\n"
   ]
  },
  {
   "cell_type": "markdown",
   "metadata": {},
   "source": [
    "Plot GAM $\\mu_{c*}$ for identified circular feature set $c*$ reconstructing target labeling function:\n",
    "\n",
    "It is clear that the GAM can reconstruct the target function given the features that define the function and the fit is (too) perfect."
   ]
  },
  {
   "cell_type": "code",
   "execution_count": 12,
   "metadata": {
    "pycharm": {
     "name": "#%%\n"
    }
   },
   "outputs": [
    {
     "data": {
      "image/png": "[encoded data removed]",
      "text/plain": [
       "<Figure size 432x288 with 1 Axes>"
      ]
     },
     "metadata": {
      "needs_background": "light"
     },
     "output_type": "display_data"
    }
   ],
   "source": [
    "term_list = construct_gam_term({\"plot\": config}, circular_features, plot=True)\n",
    "gam = build_gam(term_list)\n",
    "\n",
    "X, y = data[circular_features].to_numpy(), data[target].to_numpy()\n",
    "gam.fit(X,y)\n",
    "\n",
    "title = f\"GAM with circular features, D²: {round(score(gam, X,y)*100)}\"\n",
    "plot_gam_terms(config, gam, circular_features, decision_funct=decision_function, title=title)"
   ]
  },
  {
   "cell_type": "markdown",
   "metadata": {},
   "source": [
    "Plot GAM on full feature set: Nicely visible is the **Nullification** of the features that do not define the target labeling function."
   ]
  },
  {
   "cell_type": "code",
   "execution_count": 13,
   "metadata": {},
   "outputs": [
    {
     "data": {
      "image/png": "[encoded data removed]",
      "text/plain": [
       "<Figure size 432x288 with 5 Axes>"
      ]
     },
     "metadata": {
      "needs_background": "light"
     },
     "output_type": "display_data"
    }
   ],
   "source": [
    "term_list = construct_gam_term({\"plot\": config}, features, plot=True)\n",
    "full_gam = build_gam(term_list)\n",
    "\n",
    "X, y = data[features].to_numpy(), data[target].to_numpy()\n",
    "full_gam.fit(X,y)\n",
    "\n",
    "title = f\"GAM with all features, D²: {round(score(full_gam, X,y)*100)}\"\n",
    "plot_gam_terms(config, full_gam, features, circular_features=circular_features, title=title)"
   ]
  },
  {
   "cell_type": "markdown",
   "metadata": {},
   "source": [
    "Plot GAM on non-circular features for comparison: If circular features are not given, the other features have a reasonable impact on the prediction.\n",
    "But the fit of the model is not optimal. "
   ]
  },
  {
   "cell_type": "code",
   "execution_count": 14,
   "metadata": {},
   "outputs": [
    {
     "data": {
      "image/png": "[encoded data removed]",
      "text/plain": [
       "<Figure size 432x288 with 4 Axes>"
      ]
     },
     "metadata": {
      "needs_background": "light"
     },
     "output_type": "display_data"
    }
   ],
   "source": [
    "non_circular_gam = [gam[1] for gam in sorted_result_gams if gam[0] == nullified_features][0]\n",
    "title = f\"GAM without circular features, D²: {round(score(non_circular_gam, data[nullified_features].to_numpy(), data[target].to_numpy())*100)}\"\n",
    "\n",
    "plot_gam_terms(config, non_circular_gam, nullified_features, title=title)\n"
   ]
  }
 ],
 "metadata": {
  "kernelspec": {
   "display_name": "Python 3",
   "language": "python",
   "name": "python3"
  },
  "language_info": {
   "codemirror_mode": {
    "name": "ipython",
    "version": 3
   },
   "file_extension": ".py",
   "mimetype": "text/x-python",
   "name": "python",
   "nbconvert_exporter": "python",
   "pygments_lexer": "ipython3",
   "version": "3.8.2"
  },
  "pycharm": {
   "stem_cell": {
    "cell_type": "raw",
    "source": [],
    "metadata": {
     "collapsed": false
    }
   }
  }
 },
 "nbformat": 4,
 "nbformat_minor": 1
}